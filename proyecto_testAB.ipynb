{
 "cells": [
  {
   "cell_type": "markdown",
   "metadata": {},
   "source": [
    "# Proyecto Toma de decisiones de negocios basadas en datos\n",
    "\n",
    "Eres analista en una gran tienda en línea. Junto con el departamento de marketing has recopilado una lista de hipótesis que pueden ayudar a aumentar los ingresos. El objetivo del proyecto es priorizar estas hipótesis, lanzar un test A/B y analizar los resultados."
   ]
  },
  {
   "cell_type": "markdown",
   "metadata": {},
   "source": [
    "## Tabla de contenidos <a id='back'></a>\n",
    "\n",
    "* [Inicialización](#intro)\n",
    "* [Descarga de datos y preparación](#descarga_preparación)\n",
    "* [Priorizar hipótesis](#parte_1)\n",
    "* [Análisis del test A/B](#parte_2)"
   ]
  },
  {
   "cell_type": "markdown",
   "metadata": {},
   "source": [
    "## Inicialización <a id='intro'></a>\n",
    "\n",
    "Para iniciar nuestro proyecto vamos a cargar nuestras librerias"
   ]
  },
  {
   "cell_type": "code",
   "execution_count": 1,
   "metadata": {
    "ExecuteTime": {
     "end_time": "2023-07-18T00:50:12.774261700Z",
     "start_time": "2023-07-18T00:50:11.795269Z"
    }
   },
   "outputs": [],
   "source": [
    "# Cargar todas las librerías\n",
    "import pandas as pd\n",
    "import numpy as np\n",
    "import matplotlib.pyplot as plt\n",
    "import scipy.stats as stats\n",
    "import seaborn as sns"
   ]
  },
  {
   "cell_type": "markdown",
   "metadata": {},
   "source": [
    "## Descarga de datos y preparación <a id='descarga_preparación'></a>\n",
    "\n",
    "Vamos a cargar los datos de 3 dataset `hypotheses_us.csv`, `orders_us.csv` y `data/visits_us.csv`"
   ]
  },
  {
   "cell_type": "code",
   "execution_count": 2,
   "metadata": {
    "ExecuteTime": {
     "end_time": "2023-07-18T00:50:12.793262600Z",
     "start_time": "2023-07-18T00:50:11.812265200Z"
    }
   },
   "outputs": [],
   "source": [
    "# Carga los archivos de datos\n",
    "data_hypotheses = pd.read_csv('data/hypotheses_us.csv', sep=';')\n",
    "data_orders = pd.read_csv('data/orders_us.csv')\n",
    "data_visits = pd.read_csv('data/visits_us.csv')"
   ]
  },
  {
   "cell_type": "code",
   "execution_count": 3,
   "metadata": {
    "ExecuteTime": {
     "end_time": "2023-07-18T00:50:12.799268Z",
     "start_time": "2023-07-18T00:50:11.846264200Z"
    }
   },
   "outputs": [
    {
     "name": "stdout",
     "output_type": "stream",
     "text": [
      "                                          Hypothesis  Reach  Impact  \\\n",
      "0  Add two new channels for attracting traffic. T...      3      10   \n",
      "1  Launch your own delivery service. This will sh...      2       5   \n",
      "2  Add product recommendation blocks to the store...      8       3   \n",
      "3  Change the category structure. This will incre...      8       3   \n",
      "4  Change the background color on the main page. ...      3       1   \n",
      "\n",
      "   Confidence  Effort  \n",
      "0           8       6  \n",
      "1           4      10  \n",
      "2           7       3  \n",
      "3           3       8  \n",
      "4           1       1  \n",
      "\n",
      "   transactionId   visitorId        date  revenue group\n",
      "0     3667963787  3312258926  2019-08-15     30.4     B\n",
      "1     2804400009  3642806036  2019-08-15     15.2     B\n",
      "2     2961555356  4069496402  2019-08-15     10.2     A\n",
      "3     3797467345  1196621759  2019-08-15    155.1     B\n",
      "4     2282983706  2322279887  2019-08-15     40.5     B\n",
      "\n",
      "         date group  visits\n",
      "0  2019-08-01     A     719\n",
      "1  2019-08-02     A     619\n",
      "2  2019-08-03     A     507\n",
      "3  2019-08-04     A     717\n",
      "4  2019-08-05     A     756\n"
     ]
    }
   ],
   "source": [
    "# Verificamos que los datos se hayan cargado correctamente\n",
    "print(data_hypotheses.head())\n",
    "print()\n",
    "print(data_orders.head())\n",
    "print()\n",
    "print(data_visits.head())"
   ]
  },
  {
   "cell_type": "markdown",
   "metadata": {},
   "source": [
    "Vamos a estudiar los datos que contienen nuestros datasets y verificar que los tipos de datos sean correctos para nuestro análisis"
   ]
  },
  {
   "cell_type": "code",
   "execution_count": 4,
   "metadata": {
    "ExecuteTime": {
     "end_time": "2023-07-18T00:50:12.799268Z",
     "start_time": "2023-07-18T00:50:11.890266200Z"
    }
   },
   "outputs": [
    {
     "name": "stdout",
     "output_type": "stream",
     "text": [
      "<class 'pandas.core.frame.DataFrame'>\n",
      "RangeIndex: 9 entries, 0 to 8\n",
      "Data columns (total 5 columns):\n",
      " #   Column      Non-Null Count  Dtype \n",
      "---  ------      --------------  ----- \n",
      " 0   Hypothesis  9 non-null      object\n",
      " 1   Reach       9 non-null      int64 \n",
      " 2   Impact      9 non-null      int64 \n",
      " 3   Confidence  9 non-null      int64 \n",
      " 4   Effort      9 non-null      int64 \n",
      "dtypes: int64(4), object(1)\n",
      "memory usage: 488.0+ bytes\n"
     ]
    }
   ],
   "source": [
    "# Imprimimos la información general/resumen sobre nuestro primer dataset\n",
    "data_hypotheses.info()"
   ]
  },
  {
   "cell_type": "code",
   "execution_count": 5,
   "metadata": {
    "ExecuteTime": {
     "end_time": "2023-07-18T00:50:12.802264700Z",
     "start_time": "2023-07-18T00:50:11.923268800Z"
    }
   },
   "outputs": [
    {
     "data": {
      "text/plain": "                                          Hypothesis  Reach  Impact  \\\n0  Add two new channels for attracting traffic. T...      3      10   \n1  Launch your own delivery service. This will sh...      2       5   \n2  Add product recommendation blocks to the store...      8       3   \n3  Change the category structure. This will incre...      8       3   \n4  Change the background color on the main page. ...      3       1   \n\n   Confidence  Effort  \n0           8       6  \n1           4      10  \n2           7       3  \n3           3       8  \n4           1       1  ",
      "text/html": "<div>\n<style scoped>\n    .dataframe tbody tr th:only-of-type {\n        vertical-align: middle;\n    }\n\n    .dataframe tbody tr th {\n        vertical-align: top;\n    }\n\n    .dataframe thead th {\n        text-align: right;\n    }\n</style>\n<table border=\"1\" class=\"dataframe\">\n  <thead>\n    <tr style=\"text-align: right;\">\n      <th></th>\n      <th>Hypothesis</th>\n      <th>Reach</th>\n      <th>Impact</th>\n      <th>Confidence</th>\n      <th>Effort</th>\n    </tr>\n  </thead>\n  <tbody>\n    <tr>\n      <th>0</th>\n      <td>Add two new channels for attracting traffic. T...</td>\n      <td>3</td>\n      <td>10</td>\n      <td>8</td>\n      <td>6</td>\n    </tr>\n    <tr>\n      <th>1</th>\n      <td>Launch your own delivery service. This will sh...</td>\n      <td>2</td>\n      <td>5</td>\n      <td>4</td>\n      <td>10</td>\n    </tr>\n    <tr>\n      <th>2</th>\n      <td>Add product recommendation blocks to the store...</td>\n      <td>8</td>\n      <td>3</td>\n      <td>7</td>\n      <td>3</td>\n    </tr>\n    <tr>\n      <th>3</th>\n      <td>Change the category structure. This will incre...</td>\n      <td>8</td>\n      <td>3</td>\n      <td>3</td>\n      <td>8</td>\n    </tr>\n    <tr>\n      <th>4</th>\n      <td>Change the background color on the main page. ...</td>\n      <td>3</td>\n      <td>1</td>\n      <td>1</td>\n      <td>1</td>\n    </tr>\n  </tbody>\n</table>\n</div>"
     },
     "execution_count": 5,
     "metadata": {},
     "output_type": "execute_result"
    }
   ],
   "source": [
    "# Se imprime una muestra de los datos\n",
    "data_hypotheses.head()"
   ]
  },
  {
   "cell_type": "markdown",
   "metadata": {},
   "source": [
    "El primer dataset `data_hypotheses` que son los datos de las hipotesis que se quieren explorar con sus respectivas calificaciones, contiene los siguientes datos:\n",
    "\n",
    "- `Hypotheses`: breves descripciones de las hipótesis\n",
    "- `Reach`: alcance del usuario, en una escala del uno a diez\n",
    "- `Impact`: impacto en los usuarios, en una escala del uno al diez\n",
    "- `Confidence`: confianza en la hipótesis, en una escala del uno al diez\n",
    "- `Effort`: los recursos necesarios para probar una hipótesis, en una escala del uno al diez. Cuanto mayor sea el valor Effort, más recursos requiere la prueba."
   ]
  },
  {
   "cell_type": "code",
   "execution_count": 6,
   "metadata": {
    "ExecuteTime": {
     "end_time": "2023-07-18T00:50:12.815264800Z",
     "start_time": "2023-07-18T00:50:11.954264800Z"
    }
   },
   "outputs": [
    {
     "name": "stdout",
     "output_type": "stream",
     "text": [
      "Datos duplicados en el dataset: 0\n"
     ]
    }
   ],
   "source": [
    "# Verificamos que no haya datos duplicados en el dataset\n",
    "print('Datos duplicados en el dataset:', data_hypotheses.duplicated().sum())"
   ]
  },
  {
   "cell_type": "markdown",
   "metadata": {},
   "source": [
    "#### Conclusiones del primer dataset\n",
    "\n",
    "Al ver la muestra y resumen del dataset, no encontramos datos faltantes ni duplicados. No presenta optimizaciones extra que podamos hacer, solamente se renombraran las columnas haciendo uso de snake_case para mejor manejo. Tambien hay que mencionar que debido a la naturaleza de los datos númericos, no fue necesario ver una descripción de ellos."
   ]
  },
  {
   "cell_type": "markdown",
   "metadata": {},
   "source": [
    "Pasamos al segundo dataset"
   ]
  },
  {
   "cell_type": "code",
   "execution_count": 7,
   "metadata": {
    "ExecuteTime": {
     "end_time": "2023-07-18T00:50:12.816264300Z",
     "start_time": "2023-07-18T00:50:11.970269300Z"
    }
   },
   "outputs": [
    {
     "name": "stdout",
     "output_type": "stream",
     "text": [
      "<class 'pandas.core.frame.DataFrame'>\n",
      "RangeIndex: 1197 entries, 0 to 1196\n",
      "Data columns (total 5 columns):\n",
      " #   Column         Non-Null Count  Dtype  \n",
      "---  ------         --------------  -----  \n",
      " 0   transactionId  1197 non-null   int64  \n",
      " 1   visitorId      1197 non-null   int64  \n",
      " 2   date           1197 non-null   object \n",
      " 3   revenue        1197 non-null   float64\n",
      " 4   group          1197 non-null   object \n",
      "dtypes: float64(1), int64(2), object(2)\n",
      "memory usage: 46.9+ KB\n"
     ]
    }
   ],
   "source": [
    "# Imprimimos la información general/resumen sobre nuestro segundo dataset\n",
    "data_orders.info()"
   ]
  },
  {
   "cell_type": "code",
   "execution_count": 8,
   "metadata": {
    "ExecuteTime": {
     "end_time": "2023-07-18T00:50:12.816264300Z",
     "start_time": "2023-07-18T00:50:12.001266700Z"
    }
   },
   "outputs": [
    {
     "data": {
      "text/plain": "   transactionId   visitorId        date  revenue group\n0     3667963787  3312258926  2019-08-15     30.4     B\n1     2804400009  3642806036  2019-08-15     15.2     B\n2     2961555356  4069496402  2019-08-15     10.2     A\n3     3797467345  1196621759  2019-08-15    155.1     B\n4     2282983706  2322279887  2019-08-15     40.5     B",
      "text/html": "<div>\n<style scoped>\n    .dataframe tbody tr th:only-of-type {\n        vertical-align: middle;\n    }\n\n    .dataframe tbody tr th {\n        vertical-align: top;\n    }\n\n    .dataframe thead th {\n        text-align: right;\n    }\n</style>\n<table border=\"1\" class=\"dataframe\">\n  <thead>\n    <tr style=\"text-align: right;\">\n      <th></th>\n      <th>transactionId</th>\n      <th>visitorId</th>\n      <th>date</th>\n      <th>revenue</th>\n      <th>group</th>\n    </tr>\n  </thead>\n  <tbody>\n    <tr>\n      <th>0</th>\n      <td>3667963787</td>\n      <td>3312258926</td>\n      <td>2019-08-15</td>\n      <td>30.4</td>\n      <td>B</td>\n    </tr>\n    <tr>\n      <th>1</th>\n      <td>2804400009</td>\n      <td>3642806036</td>\n      <td>2019-08-15</td>\n      <td>15.2</td>\n      <td>B</td>\n    </tr>\n    <tr>\n      <th>2</th>\n      <td>2961555356</td>\n      <td>4069496402</td>\n      <td>2019-08-15</td>\n      <td>10.2</td>\n      <td>A</td>\n    </tr>\n    <tr>\n      <th>3</th>\n      <td>3797467345</td>\n      <td>1196621759</td>\n      <td>2019-08-15</td>\n      <td>155.1</td>\n      <td>B</td>\n    </tr>\n    <tr>\n      <th>4</th>\n      <td>2282983706</td>\n      <td>2322279887</td>\n      <td>2019-08-15</td>\n      <td>40.5</td>\n      <td>B</td>\n    </tr>\n  </tbody>\n</table>\n</div>"
     },
     "execution_count": 8,
     "metadata": {},
     "output_type": "execute_result"
    }
   ],
   "source": [
    "# Se imprime una muestra de los datos\n",
    "data_orders.head()"
   ]
  },
  {
   "cell_type": "markdown",
   "metadata": {},
   "source": [
    "El segundo dataset `data_orders` que son los datos sobre pedidos, contiene los siguientes datos:\n",
    "\n",
    "- `transactionId`: identificador de pedido\n",
    "- `visitorId`: identificador del usuario que realizó el pedido\n",
    "- `date`: fecha del pedido\n",
    "- `revenue`: ingresos del pedido\n",
    "- `group`: el grupo del test A/B al que pertenece el usuario."
   ]
  },
  {
   "cell_type": "code",
   "execution_count": 9,
   "metadata": {
    "ExecuteTime": {
     "end_time": "2023-07-18T00:50:12.817265800Z",
     "start_time": "2023-07-18T00:50:12.019265600Z"
    }
   },
   "outputs": [
    {
     "data": {
      "text/plain": "count     1197.000000\nmean       131.491646\nstd        603.004729\nmin          5.000000\n25%         20.800000\n50%         50.200000\n75%        130.400000\nmax      19920.400000\nName: revenue, dtype: float64"
     },
     "execution_count": 9,
     "metadata": {},
     "output_type": "execute_result"
    }
   ],
   "source": [
    "# Se imprime una descripción de los datos\n",
    "data_orders['revenue'].describe()"
   ]
  },
  {
   "cell_type": "code",
   "execution_count": 10,
   "metadata": {
    "ExecuteTime": {
     "end_time": "2023-07-18T00:50:12.817265800Z",
     "start_time": "2023-07-18T00:50:12.033266600Z"
    }
   },
   "outputs": [
    {
     "name": "stdout",
     "output_type": "stream",
     "text": [
      "Datos duplicados en el dataset: 0\n"
     ]
    }
   ],
   "source": [
    "# Verificamos que no haya datos duplicados en el dataset\n",
    "print('Datos duplicados en el dataset:', data_orders.duplicated().sum())"
   ]
  },
  {
   "cell_type": "markdown",
   "metadata": {},
   "source": [
    "#### Conclusiones del segundo dataset\n",
    "\n",
    "Al ver la muestra y resumen del dataset no encontramos datos faltantes ni duplicados, sin embargo debemos pasar los datos de la columna `date` a fecha. Tambien al ver la descripción de los datos numéricos vemos que la media de los ingresos es más del doble que el de la mediana, además de que el 75% de los datos no llega a superar los $130, todo esto nos indica la presencia de valores outliers"
   ]
  },
  {
   "cell_type": "markdown",
   "metadata": {},
   "source": [
    "Pasemos al 3er dataset"
   ]
  },
  {
   "cell_type": "code",
   "execution_count": 11,
   "metadata": {
    "ExecuteTime": {
     "end_time": "2023-07-18T00:50:12.818265600Z",
     "start_time": "2023-07-18T00:50:12.048265900Z"
    }
   },
   "outputs": [
    {
     "name": "stdout",
     "output_type": "stream",
     "text": [
      "<class 'pandas.core.frame.DataFrame'>\n",
      "RangeIndex: 62 entries, 0 to 61\n",
      "Data columns (total 3 columns):\n",
      " #   Column  Non-Null Count  Dtype \n",
      "---  ------  --------------  ----- \n",
      " 0   date    62 non-null     object\n",
      " 1   group   62 non-null     object\n",
      " 2   visits  62 non-null     int64 \n",
      "dtypes: int64(1), object(2)\n",
      "memory usage: 1.6+ KB\n"
     ]
    }
   ],
   "source": [
    "# Imprimimos la información general/resumen sobre el 3er dataset\n",
    "data_visits.info()"
   ]
  },
  {
   "cell_type": "code",
   "execution_count": 12,
   "metadata": {
    "ExecuteTime": {
     "end_time": "2023-07-18T00:50:12.818265600Z",
     "start_time": "2023-07-18T00:50:12.065264100Z"
    }
   },
   "outputs": [
    {
     "data": {
      "text/plain": "         date group  visits\n0  2019-08-01     A     719\n1  2019-08-02     A     619\n2  2019-08-03     A     507\n3  2019-08-04     A     717\n4  2019-08-05     A     756",
      "text/html": "<div>\n<style scoped>\n    .dataframe tbody tr th:only-of-type {\n        vertical-align: middle;\n    }\n\n    .dataframe tbody tr th {\n        vertical-align: top;\n    }\n\n    .dataframe thead th {\n        text-align: right;\n    }\n</style>\n<table border=\"1\" class=\"dataframe\">\n  <thead>\n    <tr style=\"text-align: right;\">\n      <th></th>\n      <th>date</th>\n      <th>group</th>\n      <th>visits</th>\n    </tr>\n  </thead>\n  <tbody>\n    <tr>\n      <th>0</th>\n      <td>2019-08-01</td>\n      <td>A</td>\n      <td>719</td>\n    </tr>\n    <tr>\n      <th>1</th>\n      <td>2019-08-02</td>\n      <td>A</td>\n      <td>619</td>\n    </tr>\n    <tr>\n      <th>2</th>\n      <td>2019-08-03</td>\n      <td>A</td>\n      <td>507</td>\n    </tr>\n    <tr>\n      <th>3</th>\n      <td>2019-08-04</td>\n      <td>A</td>\n      <td>717</td>\n    </tr>\n    <tr>\n      <th>4</th>\n      <td>2019-08-05</td>\n      <td>A</td>\n      <td>756</td>\n    </tr>\n  </tbody>\n</table>\n</div>"
     },
     "execution_count": 12,
     "metadata": {},
     "output_type": "execute_result"
    }
   ],
   "source": [
    "# Se imprime una muestra de los datos\n",
    "data_visits.head()"
   ]
  },
  {
   "cell_type": "markdown",
   "metadata": {},
   "source": [
    "El tercer dataset `data_visits` que son los datos sobre las visitas de la página, contiene los siguientes datos:\n",
    "\n",
    "- `date`: la fecha\n",
    "- `group`: grupo del test A/B\n",
    "- `visits`: el número de visitas en la fecha especificada para el grupo de test A/B especificado"
   ]
  },
  {
   "cell_type": "code",
   "execution_count": 13,
   "metadata": {
    "ExecuteTime": {
     "end_time": "2023-07-18T00:50:12.819264800Z",
     "start_time": "2023-07-18T00:50:12.081265600Z"
    }
   },
   "outputs": [
    {
     "data": {
      "text/plain": "           visits\ncount   62.000000\nmean   607.290323\nstd    114.400560\nmin    361.000000\n25%    534.000000\n50%    624.500000\n75%    710.500000\nmax    770.000000",
      "text/html": "<div>\n<style scoped>\n    .dataframe tbody tr th:only-of-type {\n        vertical-align: middle;\n    }\n\n    .dataframe tbody tr th {\n        vertical-align: top;\n    }\n\n    .dataframe thead th {\n        text-align: right;\n    }\n</style>\n<table border=\"1\" class=\"dataframe\">\n  <thead>\n    <tr style=\"text-align: right;\">\n      <th></th>\n      <th>visits</th>\n    </tr>\n  </thead>\n  <tbody>\n    <tr>\n      <th>count</th>\n      <td>62.000000</td>\n    </tr>\n    <tr>\n      <th>mean</th>\n      <td>607.290323</td>\n    </tr>\n    <tr>\n      <th>std</th>\n      <td>114.400560</td>\n    </tr>\n    <tr>\n      <th>min</th>\n      <td>361.000000</td>\n    </tr>\n    <tr>\n      <th>25%</th>\n      <td>534.000000</td>\n    </tr>\n    <tr>\n      <th>50%</th>\n      <td>624.500000</td>\n    </tr>\n    <tr>\n      <th>75%</th>\n      <td>710.500000</td>\n    </tr>\n    <tr>\n      <th>max</th>\n      <td>770.000000</td>\n    </tr>\n  </tbody>\n</table>\n</div>"
     },
     "execution_count": 13,
     "metadata": {},
     "output_type": "execute_result"
    }
   ],
   "source": [
    "# Se imprime una descripción de los datos\n",
    "data_visits.describe()"
   ]
  },
  {
   "cell_type": "code",
   "execution_count": 14,
   "metadata": {
    "ExecuteTime": {
     "end_time": "2023-07-18T00:50:12.820266200Z",
     "start_time": "2023-07-18T00:50:12.113267300Z"
    }
   },
   "outputs": [
    {
     "name": "stdout",
     "output_type": "stream",
     "text": [
      "Datos duplicados en el dataset: 0\n"
     ]
    }
   ],
   "source": [
    "# Verificamos que no haya datos duplicados en el dataset\n",
    "print('Datos duplicados en el dataset:', data_visits.duplicated().sum())"
   ]
  },
  {
   "cell_type": "markdown",
   "metadata": {},
   "source": [
    "#### Conclusiones del tercer dataset\n",
    "\n",
    "Al ver la muestra y resumen del dataset no encontramos datos faltantes ni duplicados, sin embargo debemos pasar los datos de la columna `date` a fecha. Tambien al ver la descripción de los datos numéricos no notamos ningún indicio de valores outliers"
   ]
  },
  {
   "cell_type": "markdown",
   "metadata": {},
   "source": [
    "### Corregir datos"
   ]
  },
  {
   "cell_type": "markdown",
   "metadata": {},
   "source": [
    "#### Primer dataset\n",
    "\n",
    "Vamos a pasar los nombres de las columnas a snake_case"
   ]
  },
  {
   "cell_type": "code",
   "execution_count": 15,
   "metadata": {
    "ExecuteTime": {
     "end_time": "2023-07-18T00:50:12.821265500Z",
     "start_time": "2023-07-18T00:50:12.127265600Z"
    }
   },
   "outputs": [
    {
     "data": {
      "text/plain": "Index(['hypothesis', 'reach', 'impact', 'confidence', 'effort'], dtype='object')"
     },
     "execution_count": 15,
     "metadata": {},
     "output_type": "execute_result"
    }
   ],
   "source": [
    "# Renombrar las columnas con snake_case\n",
    "data_hypotheses.columns = ['hypothesis', 'reach', 'impact', 'confidence', 'effort']\n",
    "# Verificamos el cambio\n",
    "data_hypotheses.columns"
   ]
  },
  {
   "cell_type": "markdown",
   "metadata": {},
   "source": [
    "#### Segundo dataset\n",
    "\n",
    "Vamos a pasar la columna `date` a fecha y la columna `group` a categoria. Además, se pasaran los nombres de las columnas a snake_case"
   ]
  },
  {
   "cell_type": "code",
   "execution_count": 16,
   "metadata": {
    "ExecuteTime": {
     "end_time": "2023-07-18T00:50:12.822263800Z",
     "start_time": "2023-07-18T00:50:12.142266800Z"
    }
   },
   "outputs": [
    {
     "name": "stdout",
     "output_type": "stream",
     "text": [
      "<class 'pandas.core.frame.DataFrame'>\n",
      "RangeIndex: 1197 entries, 0 to 1196\n",
      "Data columns (total 5 columns):\n",
      " #   Column         Non-Null Count  Dtype         \n",
      "---  ------         --------------  -----         \n",
      " 0   transactionId  1197 non-null   int64         \n",
      " 1   visitorId      1197 non-null   int64         \n",
      " 2   date           1197 non-null   datetime64[ns]\n",
      " 3   revenue        1197 non-null   float64       \n",
      " 4   group          1197 non-null   object        \n",
      "dtypes: datetime64[ns](1), float64(1), int64(2), object(1)\n",
      "memory usage: 46.9+ KB\n"
     ]
    }
   ],
   "source": [
    "# Pasamos date a fecha\n",
    "data_orders['date'] =  pd.to_datetime(data_orders['date'], format=\"%Y.%m.%d\")\n",
    "\n",
    "# Verificamos los cambios\n",
    "data_orders.info()"
   ]
  },
  {
   "cell_type": "code",
   "execution_count": 17,
   "metadata": {
    "ExecuteTime": {
     "end_time": "2023-07-18T00:50:12.822263800Z",
     "start_time": "2023-07-18T00:50:12.176264200Z"
    }
   },
   "outputs": [
    {
     "data": {
      "text/plain": "Index(['transaction_id', 'visitor_id', 'date', 'revenue', 'group'], dtype='object')"
     },
     "execution_count": 17,
     "metadata": {},
     "output_type": "execute_result"
    }
   ],
   "source": [
    "# Pasamos los nombres a snake_case\n",
    "data_orders.columns = ['transaction_id', 'visitor_id', 'date', 'revenue', 'group']\n",
    "data_orders.columns"
   ]
  },
  {
   "cell_type": "markdown",
   "metadata": {},
   "source": [
    "#### Tercer dataset\n",
    "\n",
    "Vamos a pasar la columna `date` a fecha y la columna `group` a categoria."
   ]
  },
  {
   "cell_type": "code",
   "execution_count": 18,
   "metadata": {
    "ExecuteTime": {
     "end_time": "2023-07-18T00:50:12.823264800Z",
     "start_time": "2023-07-18T00:50:12.191265600Z"
    }
   },
   "outputs": [
    {
     "name": "stdout",
     "output_type": "stream",
     "text": [
      "<class 'pandas.core.frame.DataFrame'>\n",
      "RangeIndex: 62 entries, 0 to 61\n",
      "Data columns (total 3 columns):\n",
      " #   Column  Non-Null Count  Dtype         \n",
      "---  ------  --------------  -----         \n",
      " 0   date    62 non-null     datetime64[ns]\n",
      " 1   group   62 non-null     object        \n",
      " 2   visits  62 non-null     int64         \n",
      "dtypes: datetime64[ns](1), int64(1), object(1)\n",
      "memory usage: 1.6+ KB\n"
     ]
    }
   ],
   "source": [
    "# Pasamos date a fecha\n",
    "data_visits['date'] =  pd.to_datetime(data_visits['date'], format=\"%Y.%m.%d\")\n",
    "\n",
    "# Verificamos los cambios\n",
    "data_visits.info()"
   ]
  },
  {
   "cell_type": "markdown",
   "metadata": {},
   "source": [
    "Con estas correcciones, nuestros dataset estan listos para nuestro análisis."
   ]
  },
  {
   "cell_type": "markdown",
   "metadata": {},
   "source": [
    "## Priorizar hipótesis <a id='parte_1'></a>\n",
    "\n",
    "Nuestra tabla `data_hypotheses` contiene 9 hipótesis sobre cómo aumentar los ingresos de una tienda en línea.\n",
    "\n",
    "Debemos:\n",
    "\n",
    "- Aplicar el framework `ICE` para priorizar hipótesis. Ordenarlas en orden descendente de prioridad.\n",
    "- Aplicar el framework `RICE` para priorizar hipótesis. Ordenarlas en orden descendente de prioridad.\n",
    "- Mostrar cómo cambia la priorización de hipótesis cuando utilizas `RICE` en lugar de `ICE`. Proporcionar una explicación de los cambios."
   ]
  },
  {
   "cell_type": "markdown",
   "metadata": {},
   "source": [
    "Primero empezaremos con el framework `ICE`. En este framework debemos tomar en cuenta el impacto, confianza y esfuerzo para cada una de las hipotesis"
   ]
  },
  {
   "cell_type": "code",
   "execution_count": 19,
   "metadata": {
    "ExecuteTime": {
     "end_time": "2023-07-18T00:50:12.823264800Z",
     "start_time": "2023-07-18T00:50:12.223266600Z"
    }
   },
   "outputs": [
    {
     "data": {
      "text/plain": "                                          hypothesis  reach  impact  \\\n0  Add two new channels for attracting traffic. T...      3      10   \n1  Launch your own delivery service. This will sh...      2       5   \n2  Add product recommendation blocks to the store...      8       3   \n3  Change the category structure. This will incre...      8       3   \n4  Change the background color on the main page. ...      3       1   \n\n   confidence  effort  \n0           8       6  \n1           4      10  \n2           7       3  \n3           3       8  \n4           1       1  ",
      "text/html": "<div>\n<style scoped>\n    .dataframe tbody tr th:only-of-type {\n        vertical-align: middle;\n    }\n\n    .dataframe tbody tr th {\n        vertical-align: top;\n    }\n\n    .dataframe thead th {\n        text-align: right;\n    }\n</style>\n<table border=\"1\" class=\"dataframe\">\n  <thead>\n    <tr style=\"text-align: right;\">\n      <th></th>\n      <th>hypothesis</th>\n      <th>reach</th>\n      <th>impact</th>\n      <th>confidence</th>\n      <th>effort</th>\n    </tr>\n  </thead>\n  <tbody>\n    <tr>\n      <th>0</th>\n      <td>Add two new channels for attracting traffic. T...</td>\n      <td>3</td>\n      <td>10</td>\n      <td>8</td>\n      <td>6</td>\n    </tr>\n    <tr>\n      <th>1</th>\n      <td>Launch your own delivery service. This will sh...</td>\n      <td>2</td>\n      <td>5</td>\n      <td>4</td>\n      <td>10</td>\n    </tr>\n    <tr>\n      <th>2</th>\n      <td>Add product recommendation blocks to the store...</td>\n      <td>8</td>\n      <td>3</td>\n      <td>7</td>\n      <td>3</td>\n    </tr>\n    <tr>\n      <th>3</th>\n      <td>Change the category structure. This will incre...</td>\n      <td>8</td>\n      <td>3</td>\n      <td>3</td>\n      <td>8</td>\n    </tr>\n    <tr>\n      <th>4</th>\n      <td>Change the background color on the main page. ...</td>\n      <td>3</td>\n      <td>1</td>\n      <td>1</td>\n      <td>1</td>\n    </tr>\n  </tbody>\n</table>\n</div>"
     },
     "execution_count": 19,
     "metadata": {},
     "output_type": "execute_result"
    }
   ],
   "source": [
    "# Vemos una muestra de los datos\n",
    "data_hypotheses.head()"
   ]
  },
  {
   "cell_type": "code",
   "execution_count": 20,
   "metadata": {
    "ExecuteTime": {
     "end_time": "2023-07-18T00:50:12.824266400Z",
     "start_time": "2023-07-18T00:50:12.257265100Z"
    }
   },
   "outputs": [
    {
     "data": {
      "text/plain": "                                          hypothesis        ICE\n8  Launch a promotion that gives users discounts ...  16.200000\n0  Add two new channels for attracting traffic. T...  13.333333\n7  Add a subscription form to all the main pages....  11.200000\n6  Show banners with current offers and sales on ...   8.000000\n2  Add product recommendation blocks to the store...   7.000000\n1  Launch your own delivery service. This will sh...   2.000000\n5  Add a customer review page. This will increase...   1.333333\n3  Change the category structure. This will incre...   1.125000\n4  Change the background color on the main page. ...   1.000000",
      "text/html": "<div>\n<style scoped>\n    .dataframe tbody tr th:only-of-type {\n        vertical-align: middle;\n    }\n\n    .dataframe tbody tr th {\n        vertical-align: top;\n    }\n\n    .dataframe thead th {\n        text-align: right;\n    }\n</style>\n<table border=\"1\" class=\"dataframe\">\n  <thead>\n    <tr style=\"text-align: right;\">\n      <th></th>\n      <th>hypothesis</th>\n      <th>ICE</th>\n    </tr>\n  </thead>\n  <tbody>\n    <tr>\n      <th>8</th>\n      <td>Launch a promotion that gives users discounts ...</td>\n      <td>16.200000</td>\n    </tr>\n    <tr>\n      <th>0</th>\n      <td>Add two new channels for attracting traffic. T...</td>\n      <td>13.333333</td>\n    </tr>\n    <tr>\n      <th>7</th>\n      <td>Add a subscription form to all the main pages....</td>\n      <td>11.200000</td>\n    </tr>\n    <tr>\n      <th>6</th>\n      <td>Show banners with current offers and sales on ...</td>\n      <td>8.000000</td>\n    </tr>\n    <tr>\n      <th>2</th>\n      <td>Add product recommendation blocks to the store...</td>\n      <td>7.000000</td>\n    </tr>\n    <tr>\n      <th>1</th>\n      <td>Launch your own delivery service. This will sh...</td>\n      <td>2.000000</td>\n    </tr>\n    <tr>\n      <th>5</th>\n      <td>Add a customer review page. This will increase...</td>\n      <td>1.333333</td>\n    </tr>\n    <tr>\n      <th>3</th>\n      <td>Change the category structure. This will incre...</td>\n      <td>1.125000</td>\n    </tr>\n    <tr>\n      <th>4</th>\n      <td>Change the background color on the main page. ...</td>\n      <td>1.000000</td>\n    </tr>\n  </tbody>\n</table>\n</div>"
     },
     "execution_count": 20,
     "metadata": {},
     "output_type": "execute_result"
    }
   ],
   "source": [
    "# Creamos la columna ICE para realizar el calculo para cada una de las hipotesis\n",
    "data_hypotheses['ICE'] = (data_hypotheses['impact'] *\n",
    "                          data_hypotheses['confidence']) / data_hypotheses.effort\n",
    "\n",
    "data_hypotheses[['hypothesis', 'ICE']].sort_values(by='ICE', ascending=False)"
   ]
  },
  {
   "cell_type": "markdown",
   "metadata": {},
   "source": [
    "Podemos ver que las hipótesis con indice 8 (promoción de descuento en cumpleaños), indice 0 (Agregar 2 canales nuevos para atraer más tráfico) e indice 7 (Agregar un formato de suscripción a todas las páginas principales) son las más prometedoras."
   ]
  },
  {
   "cell_type": "markdown",
   "metadata": {},
   "source": [
    "Ahora pasemos al framework RICE. En este framework se toma en cuenta las anteriores métricas pero con el diferencial del alcance."
   ]
  },
  {
   "cell_type": "code",
   "execution_count": 21,
   "metadata": {
    "ExecuteTime": {
     "end_time": "2023-07-18T00:50:12.824266400Z",
     "start_time": "2023-07-18T00:50:12.286268100Z"
    }
   },
   "outputs": [
    {
     "data": {
      "text/plain": "                                          hypothesis   RICE\n7  Add a subscription form to all the main pages....  112.0\n2  Add product recommendation blocks to the store...   56.0\n0  Add two new channels for attracting traffic. T...   40.0\n6  Show banners with current offers and sales on ...   40.0\n8  Launch a promotion that gives users discounts ...   16.2\n3  Change the category structure. This will incre...    9.0\n1  Launch your own delivery service. This will sh...    4.0\n5  Add a customer review page. This will increase...    4.0\n4  Change the background color on the main page. ...    3.0",
      "text/html": "<div>\n<style scoped>\n    .dataframe tbody tr th:only-of-type {\n        vertical-align: middle;\n    }\n\n    .dataframe tbody tr th {\n        vertical-align: top;\n    }\n\n    .dataframe thead th {\n        text-align: right;\n    }\n</style>\n<table border=\"1\" class=\"dataframe\">\n  <thead>\n    <tr style=\"text-align: right;\">\n      <th></th>\n      <th>hypothesis</th>\n      <th>RICE</th>\n    </tr>\n  </thead>\n  <tbody>\n    <tr>\n      <th>7</th>\n      <td>Add a subscription form to all the main pages....</td>\n      <td>112.0</td>\n    </tr>\n    <tr>\n      <th>2</th>\n      <td>Add product recommendation blocks to the store...</td>\n      <td>56.0</td>\n    </tr>\n    <tr>\n      <th>0</th>\n      <td>Add two new channels for attracting traffic. T...</td>\n      <td>40.0</td>\n    </tr>\n    <tr>\n      <th>6</th>\n      <td>Show banners with current offers and sales on ...</td>\n      <td>40.0</td>\n    </tr>\n    <tr>\n      <th>8</th>\n      <td>Launch a promotion that gives users discounts ...</td>\n      <td>16.2</td>\n    </tr>\n    <tr>\n      <th>3</th>\n      <td>Change the category structure. This will incre...</td>\n      <td>9.0</td>\n    </tr>\n    <tr>\n      <th>1</th>\n      <td>Launch your own delivery service. This will sh...</td>\n      <td>4.0</td>\n    </tr>\n    <tr>\n      <th>5</th>\n      <td>Add a customer review page. This will increase...</td>\n      <td>4.0</td>\n    </tr>\n    <tr>\n      <th>4</th>\n      <td>Change the background color on the main page. ...</td>\n      <td>3.0</td>\n    </tr>\n  </tbody>\n</table>\n</div>"
     },
     "execution_count": 21,
     "metadata": {},
     "output_type": "execute_result"
    }
   ],
   "source": [
    "# Creamos la columna RICE para realizar el calculo para cada una de las hipotesis\n",
    "data_hypotheses['RICE'] = (data_hypotheses['reach'] * data_hypotheses['impact'] *\n",
    "                          data_hypotheses['confidence']) / data_hypotheses.effort\n",
    "\n",
    "data_hypotheses[['hypothesis', 'RICE']].sort_values(by='RICE', ascending=False)"
   ]
  },
  {
   "cell_type": "markdown",
   "metadata": {},
   "source": [
    "Podemos ver que las hipótesis con índice 0 y 7 vuelven a estar en el top 3 de más prometedoras, sin embargo la hipótesis con índice 8 ha bajado bastante en prioridad, ya que la hipótesis con índice 2 (Agregar bloques con recomendaciones de producto en el sitio de la tienda) ocupa un lugar en el top 3"
   ]
  },
  {
   "cell_type": "markdown",
   "metadata": {},
   "source": [
    "### Conclusiones intermedias\n",
    "\n",
    "Como se pudo notar, hubo un cambio en el top 3 de hipótesis prometedoras. Siendo la hipótesis con índice 8 (Lanzar descuentos para usuarios en su cumpleaños) la que quedo fuera. Este cambio es debido que al tomar en cuenta el número de usuarios que vamos a impactar con nuestras hipotesis, tenemos hipótesis que impactaran a una cantidad más significativa de usuarios que en comparación a esta promoción que tiene un valor de uno en este parámetro.\n",
    "\n",
    "Ya que el objetivo de cualquier negocio es aumentar sus ventas, debemos priorizar impactar al mayor número de personas con nuestras hipotesis por lo que para este caso recomiendo ampliamente considerar el top 3 proporcionado por el framework RICE"
   ]
  },
  {
   "cell_type": "markdown",
   "metadata": {},
   "source": [
    "## Análisis de test A/B <a id='parte_2'></a>\n",
    "\n",
    "Se realizo un test A/B y se obtuvieron resultados contenidos en nuestras tablas `data_orders` y `data_visits`\n",
    "\n",
    "Debemos:\n",
    "\n",
    "- Representar gráficamente el ingreso acumulado por grupo. Sacar conclusiones y hacer conjeturas.\n",
    "- Representar gráficamente el tamaño de pedido promedio acumulado por grupo. Sacar conclusiones y hacer conjeturas.\n",
    "- Representar gráficamente la diferencia relativa en el tamaño de pedido promedio acumulado para el grupo B en comparación con el grupo A. Sacar conclusiones y hacer conjeturas.\n",
    "- Calcular la tasa de conversión de cada grupo como la relación entre los pedidos y el número de visitas de cada día. Representar gráficamente las tasas de conversión diarias de los dos grupos y describir la diferencia. Sacar conclusiones y hacer conjeturas.\n",
    "- Trazar un gráfico de dispersión del número de pedidos por usuario. Sacar conclusiones y hacer conjeturas.\n",
    "- Calcular los percentiles 95 y 99 para el número de pedidos por usuario. Definir el punto en el cual un punto de datos se convierte en una anomalía.\n",
    "- Trazar un gráfico de dispersión de los precios de los pedidos. Sacar conclusiones y hacer conjeturas.\n",
    "- Calcular los percentiles 95 y 99 de los precios de los pedidos. Definir el punto en el cual un punto de datos se convierte en una anomalía.\n",
    "- Encontrar la significancia estadística de la diferencia en la conversión entre los grupos utilizando los datos en bruto. Sacar conclusiones y hacer conjeturas.\n",
    "- Encontrar la significancia estadística de la diferencia en el tamaño promedio de pedido entre los grupos utilizando los datos en bruto. Sacar conclusiones y hacer conjeturas.\n",
    "- Encontrar la significancia estadística de la diferencia en la conversión entre los grupos utilizando los datos filtrados. Sacar conclusiones y hacer conjeturas.\n",
    "- Encontrar la significancia estadística de la diferencia en el tamaño promedio de pedido entre los grupos utilizando los datos filtrados. Sacar conclusiones y hacer conjeturas.\n",
    "- Se debe tomar una decisión basada en los resultados de la prueba. Las decisiones posibles son:\n",
    "  1. Para la prueba, considera a uno de los grupos como líder.\n",
    "  2. Para la prueba, concluye que no hay diferencia entre los grupos.\n",
    "  3. Continúa la prueba."
   ]
  },
  {
   "cell_type": "markdown",
   "metadata": {},
   "source": [
    "Antes de iniciar con nuestro análisis, debemos verificar que cada visitante esten solo en un grupo (A o B). Para esto agruparemos por visitante y contaremos sus datos unicos de grupo, si hay alguno con 2, se tomara en cuenta para la prueba el primer grupo en el que entro."
   ]
  },
  {
   "cell_type": "code",
   "execution_count": 22,
   "metadata": {
    "ExecuteTime": {
     "end_time": "2023-07-18T00:50:12.825271800Z",
     "start_time": "2023-07-18T00:50:12.318264Z"
    }
   },
   "outputs": [
    {
     "data": {
      "text/plain": "      visitor_id  group\n2        8300375      2\n44     199603092      2\n51     232979603      2\n55     237748145      2\n66     276558944      2\n84     351125977      2\n97     393266494      2\n114    457167155      2\n119    471551937      2\n122    477780734      2\n192    818047933      2\n236    963407295      2\n299   1230306981      2\n311   1294878855      2\n316   1316129916      2\n318   1333886533      2\n340   1404934699      2\n386   1602967004      2\n393   1614305549      2\n402   1648269707      2\n406   1668030113      2\n422   1738359350      2\n436   1801183820      2\n469   1959144690      2\n487   2038680547      2\n491   2044997962      2\n569   2378935119      2\n591   2458001652      2\n614   2579882178      2\n619   2587333274      2\n622   2600415354      2\n639   2654030115      2\n648   2686716486      2\n661   2712142231      2\n662   2716752286      2\n677   2780786433      2\n710   2927087541      2\n715   2949041841      2\n718   2954449915      2\n744   3062433592      2\n784   3202540741      2\n792   3234906277      2\n884   3656415546      2\n897   3717692402      2\n909   3766097110      2\n917   3803269165      2\n932   3891541246      2\n950   3941795274      2\n954   3951559397      2\n957   3957174400      2\n958   3963646447      2\n960   3972127743      2\n963   3984495233      2\n984   4069496402      2\n992   4120364173      2\n1009  4186807279      2\n1023  4256040402      2\n1026  4266935830      2",
      "text/html": "<div>\n<style scoped>\n    .dataframe tbody tr th:only-of-type {\n        vertical-align: middle;\n    }\n\n    .dataframe tbody tr th {\n        vertical-align: top;\n    }\n\n    .dataframe thead th {\n        text-align: right;\n    }\n</style>\n<table border=\"1\" class=\"dataframe\">\n  <thead>\n    <tr style=\"text-align: right;\">\n      <th></th>\n      <th>visitor_id</th>\n      <th>group</th>\n    </tr>\n  </thead>\n  <tbody>\n    <tr>\n      <th>2</th>\n      <td>8300375</td>\n      <td>2</td>\n    </tr>\n    <tr>\n      <th>44</th>\n      <td>199603092</td>\n      <td>2</td>\n    </tr>\n    <tr>\n      <th>51</th>\n      <td>232979603</td>\n      <td>2</td>\n    </tr>\n    <tr>\n      <th>55</th>\n      <td>237748145</td>\n      <td>2</td>\n    </tr>\n    <tr>\n      <th>66</th>\n      <td>276558944</td>\n      <td>2</td>\n    </tr>\n    <tr>\n      <th>84</th>\n      <td>351125977</td>\n      <td>2</td>\n    </tr>\n    <tr>\n      <th>97</th>\n      <td>393266494</td>\n      <td>2</td>\n    </tr>\n    <tr>\n      <th>114</th>\n      <td>457167155</td>\n      <td>2</td>\n    </tr>\n    <tr>\n      <th>119</th>\n      <td>471551937</td>\n      <td>2</td>\n    </tr>\n    <tr>\n      <th>122</th>\n      <td>477780734</td>\n      <td>2</td>\n    </tr>\n    <tr>\n      <th>192</th>\n      <td>818047933</td>\n      <td>2</td>\n    </tr>\n    <tr>\n      <th>236</th>\n      <td>963407295</td>\n      <td>2</td>\n    </tr>\n    <tr>\n      <th>299</th>\n      <td>1230306981</td>\n      <td>2</td>\n    </tr>\n    <tr>\n      <th>311</th>\n      <td>1294878855</td>\n      <td>2</td>\n    </tr>\n    <tr>\n      <th>316</th>\n      <td>1316129916</td>\n      <td>2</td>\n    </tr>\n    <tr>\n      <th>318</th>\n      <td>1333886533</td>\n      <td>2</td>\n    </tr>\n    <tr>\n      <th>340</th>\n      <td>1404934699</td>\n      <td>2</td>\n    </tr>\n    <tr>\n      <th>386</th>\n      <td>1602967004</td>\n      <td>2</td>\n    </tr>\n    <tr>\n      <th>393</th>\n      <td>1614305549</td>\n      <td>2</td>\n    </tr>\n    <tr>\n      <th>402</th>\n      <td>1648269707</td>\n      <td>2</td>\n    </tr>\n    <tr>\n      <th>406</th>\n      <td>1668030113</td>\n      <td>2</td>\n    </tr>\n    <tr>\n      <th>422</th>\n      <td>1738359350</td>\n      <td>2</td>\n    </tr>\n    <tr>\n      <th>436</th>\n      <td>1801183820</td>\n      <td>2</td>\n    </tr>\n    <tr>\n      <th>469</th>\n      <td>1959144690</td>\n      <td>2</td>\n    </tr>\n    <tr>\n      <th>487</th>\n      <td>2038680547</td>\n      <td>2</td>\n    </tr>\n    <tr>\n      <th>491</th>\n      <td>2044997962</td>\n      <td>2</td>\n    </tr>\n    <tr>\n      <th>569</th>\n      <td>2378935119</td>\n      <td>2</td>\n    </tr>\n    <tr>\n      <th>591</th>\n      <td>2458001652</td>\n      <td>2</td>\n    </tr>\n    <tr>\n      <th>614</th>\n      <td>2579882178</td>\n      <td>2</td>\n    </tr>\n    <tr>\n      <th>619</th>\n      <td>2587333274</td>\n      <td>2</td>\n    </tr>\n    <tr>\n      <th>622</th>\n      <td>2600415354</td>\n      <td>2</td>\n    </tr>\n    <tr>\n      <th>639</th>\n      <td>2654030115</td>\n      <td>2</td>\n    </tr>\n    <tr>\n      <th>648</th>\n      <td>2686716486</td>\n      <td>2</td>\n    </tr>\n    <tr>\n      <th>661</th>\n      <td>2712142231</td>\n      <td>2</td>\n    </tr>\n    <tr>\n      <th>662</th>\n      <td>2716752286</td>\n      <td>2</td>\n    </tr>\n    <tr>\n      <th>677</th>\n      <td>2780786433</td>\n      <td>2</td>\n    </tr>\n    <tr>\n      <th>710</th>\n      <td>2927087541</td>\n      <td>2</td>\n    </tr>\n    <tr>\n      <th>715</th>\n      <td>2949041841</td>\n      <td>2</td>\n    </tr>\n    <tr>\n      <th>718</th>\n      <td>2954449915</td>\n      <td>2</td>\n    </tr>\n    <tr>\n      <th>744</th>\n      <td>3062433592</td>\n      <td>2</td>\n    </tr>\n    <tr>\n      <th>784</th>\n      <td>3202540741</td>\n      <td>2</td>\n    </tr>\n    <tr>\n      <th>792</th>\n      <td>3234906277</td>\n      <td>2</td>\n    </tr>\n    <tr>\n      <th>884</th>\n      <td>3656415546</td>\n      <td>2</td>\n    </tr>\n    <tr>\n      <th>897</th>\n      <td>3717692402</td>\n      <td>2</td>\n    </tr>\n    <tr>\n      <th>909</th>\n      <td>3766097110</td>\n      <td>2</td>\n    </tr>\n    <tr>\n      <th>917</th>\n      <td>3803269165</td>\n      <td>2</td>\n    </tr>\n    <tr>\n      <th>932</th>\n      <td>3891541246</td>\n      <td>2</td>\n    </tr>\n    <tr>\n      <th>950</th>\n      <td>3941795274</td>\n      <td>2</td>\n    </tr>\n    <tr>\n      <th>954</th>\n      <td>3951559397</td>\n      <td>2</td>\n    </tr>\n    <tr>\n      <th>957</th>\n      <td>3957174400</td>\n      <td>2</td>\n    </tr>\n    <tr>\n      <th>958</th>\n      <td>3963646447</td>\n      <td>2</td>\n    </tr>\n    <tr>\n      <th>960</th>\n      <td>3972127743</td>\n      <td>2</td>\n    </tr>\n    <tr>\n      <th>963</th>\n      <td>3984495233</td>\n      <td>2</td>\n    </tr>\n    <tr>\n      <th>984</th>\n      <td>4069496402</td>\n      <td>2</td>\n    </tr>\n    <tr>\n      <th>992</th>\n      <td>4120364173</td>\n      <td>2</td>\n    </tr>\n    <tr>\n      <th>1009</th>\n      <td>4186807279</td>\n      <td>2</td>\n    </tr>\n    <tr>\n      <th>1023</th>\n      <td>4256040402</td>\n      <td>2</td>\n    </tr>\n    <tr>\n      <th>1026</th>\n      <td>4266935830</td>\n      <td>2</td>\n    </tr>\n  </tbody>\n</table>\n</div>"
     },
     "execution_count": 22,
     "metadata": {},
     "output_type": "execute_result"
    }
   ],
   "source": [
    "# Verificamos el dataset de ordenes\n",
    "visitors_two_groups = data_orders.groupby('visitor_id')['group'].nunique().reset_index().query('group > 1')\n",
    "visitors_two_groups"
   ]
  },
  {
   "cell_type": "markdown",
   "metadata": {},
   "source": [
    "Como podemos observar, tenemos 58 visitantes que estan en 2 grupos del test, debemos corregirlo."
   ]
  },
  {
   "cell_type": "code",
   "execution_count": 23,
   "metadata": {
    "ExecuteTime": {
     "end_time": "2023-07-18T00:50:12.826267800Z",
     "start_time": "2023-07-18T00:50:12.348266500Z"
    }
   },
   "outputs": [
    {
     "data": {
      "text/plain": "      transaction_id  visitor_id       date  revenue group\n2         2961555356  4069496402 2019-08-15     10.2     A\n20        2904772834   963407295 2019-08-15      5.6     B\n23        4252514150   351125977 2019-08-15    235.6     B\n24        1162046357  3234906277 2019-08-15    120.2     B\n26        2223239646   199603092 2019-08-15     55.7     A\n...              ...         ...        ...      ...   ...\n1182      2682156369  1668030113 2019-08-14     20.8     B\n1183      1458356232   963407295 2019-08-14     80.0     A\n1184      1329499668  2949041841 2019-08-14    160.7     B\n1189      4082620617   393266494 2019-08-14    490.4     B\n1195      1947021204  1614305549 2019-08-14      5.5     A\n\n[181 rows x 5 columns]",
      "text/html": "<div>\n<style scoped>\n    .dataframe tbody tr th:only-of-type {\n        vertical-align: middle;\n    }\n\n    .dataframe tbody tr th {\n        vertical-align: top;\n    }\n\n    .dataframe thead th {\n        text-align: right;\n    }\n</style>\n<table border=\"1\" class=\"dataframe\">\n  <thead>\n    <tr style=\"text-align: right;\">\n      <th></th>\n      <th>transaction_id</th>\n      <th>visitor_id</th>\n      <th>date</th>\n      <th>revenue</th>\n      <th>group</th>\n    </tr>\n  </thead>\n  <tbody>\n    <tr>\n      <th>2</th>\n      <td>2961555356</td>\n      <td>4069496402</td>\n      <td>2019-08-15</td>\n      <td>10.2</td>\n      <td>A</td>\n    </tr>\n    <tr>\n      <th>20</th>\n      <td>2904772834</td>\n      <td>963407295</td>\n      <td>2019-08-15</td>\n      <td>5.6</td>\n      <td>B</td>\n    </tr>\n    <tr>\n      <th>23</th>\n      <td>4252514150</td>\n      <td>351125977</td>\n      <td>2019-08-15</td>\n      <td>235.6</td>\n      <td>B</td>\n    </tr>\n    <tr>\n      <th>24</th>\n      <td>1162046357</td>\n      <td>3234906277</td>\n      <td>2019-08-15</td>\n      <td>120.2</td>\n      <td>B</td>\n    </tr>\n    <tr>\n      <th>26</th>\n      <td>2223239646</td>\n      <td>199603092</td>\n      <td>2019-08-15</td>\n      <td>55.7</td>\n      <td>A</td>\n    </tr>\n    <tr>\n      <th>...</th>\n      <td>...</td>\n      <td>...</td>\n      <td>...</td>\n      <td>...</td>\n      <td>...</td>\n    </tr>\n    <tr>\n      <th>1182</th>\n      <td>2682156369</td>\n      <td>1668030113</td>\n      <td>2019-08-14</td>\n      <td>20.8</td>\n      <td>B</td>\n    </tr>\n    <tr>\n      <th>1183</th>\n      <td>1458356232</td>\n      <td>963407295</td>\n      <td>2019-08-14</td>\n      <td>80.0</td>\n      <td>A</td>\n    </tr>\n    <tr>\n      <th>1184</th>\n      <td>1329499668</td>\n      <td>2949041841</td>\n      <td>2019-08-14</td>\n      <td>160.7</td>\n      <td>B</td>\n    </tr>\n    <tr>\n      <th>1189</th>\n      <td>4082620617</td>\n      <td>393266494</td>\n      <td>2019-08-14</td>\n      <td>490.4</td>\n      <td>B</td>\n    </tr>\n    <tr>\n      <th>1195</th>\n      <td>1947021204</td>\n      <td>1614305549</td>\n      <td>2019-08-14</td>\n      <td>5.5</td>\n      <td>A</td>\n    </tr>\n  </tbody>\n</table>\n<p>181 rows × 5 columns</p>\n</div>"
     },
     "execution_count": 23,
     "metadata": {},
     "output_type": "execute_result"
    }
   ],
   "source": [
    "# Seleccionamos los id's de los visitantes con doble grupo\n",
    "visitors_two_groups = visitors_two_groups['visitor_id']\n",
    "\n",
    "# De la tabla orders seleccionamos para los visitantes identificados sus grupos y fechas\n",
    "orders_two_groups = data_orders.loc[data_orders['visitor_id'].isin(visitors_two_groups)]\n",
    "orders_two_groups"
   ]
  },
  {
   "cell_type": "code",
   "execution_count": 24,
   "metadata": {
    "ExecuteTime": {
     "end_time": "2023-07-18T00:50:12.827267500Z",
     "start_time": "2023-07-18T00:50:12.378268500Z"
    }
   },
   "outputs": [
    {
     "data": {
      "text/plain": "    visitor_id       date  transaction_id  revenue group\n0      8300375 2019-08-01      3679129301    165.7     B\n1    199603092 2019-08-02       437656952     55.7     B\n2    232979603 2019-08-31      2670069237     45.6     B\n3    232979603 2019-08-31        83566152      5.9     A\n4    237748145 2019-08-12      3357467820     10.2     A\n..         ...        ...             ...      ...   ...\n73  4120364173 2019-08-29      4212256267    615.3     A\n74  4186807279 2019-08-14      3757656646     80.8     A\n75  4256040402 2019-08-01      1120327437     90.2     A\n76  4266935830 2019-08-29      1811671147   1220.2     A\n77  4266935830 2019-08-29      1216533772   1220.2     B\n\n[78 rows x 5 columns]",
      "text/html": "<div>\n<style scoped>\n    .dataframe tbody tr th:only-of-type {\n        vertical-align: middle;\n    }\n\n    .dataframe tbody tr th {\n        vertical-align: top;\n    }\n\n    .dataframe thead th {\n        text-align: right;\n    }\n</style>\n<table border=\"1\" class=\"dataframe\">\n  <thead>\n    <tr style=\"text-align: right;\">\n      <th></th>\n      <th>visitor_id</th>\n      <th>date</th>\n      <th>transaction_id</th>\n      <th>revenue</th>\n      <th>group</th>\n    </tr>\n  </thead>\n  <tbody>\n    <tr>\n      <th>0</th>\n      <td>8300375</td>\n      <td>2019-08-01</td>\n      <td>3679129301</td>\n      <td>165.7</td>\n      <td>B</td>\n    </tr>\n    <tr>\n      <th>1</th>\n      <td>199603092</td>\n      <td>2019-08-02</td>\n      <td>437656952</td>\n      <td>55.7</td>\n      <td>B</td>\n    </tr>\n    <tr>\n      <th>2</th>\n      <td>232979603</td>\n      <td>2019-08-31</td>\n      <td>2670069237</td>\n      <td>45.6</td>\n      <td>B</td>\n    </tr>\n    <tr>\n      <th>3</th>\n      <td>232979603</td>\n      <td>2019-08-31</td>\n      <td>83566152</td>\n      <td>5.9</td>\n      <td>A</td>\n    </tr>\n    <tr>\n      <th>4</th>\n      <td>237748145</td>\n      <td>2019-08-12</td>\n      <td>3357467820</td>\n      <td>10.2</td>\n      <td>A</td>\n    </tr>\n    <tr>\n      <th>...</th>\n      <td>...</td>\n      <td>...</td>\n      <td>...</td>\n      <td>...</td>\n      <td>...</td>\n    </tr>\n    <tr>\n      <th>73</th>\n      <td>4120364173</td>\n      <td>2019-08-29</td>\n      <td>4212256267</td>\n      <td>615.3</td>\n      <td>A</td>\n    </tr>\n    <tr>\n      <th>74</th>\n      <td>4186807279</td>\n      <td>2019-08-14</td>\n      <td>3757656646</td>\n      <td>80.8</td>\n      <td>A</td>\n    </tr>\n    <tr>\n      <th>75</th>\n      <td>4256040402</td>\n      <td>2019-08-01</td>\n      <td>1120327437</td>\n      <td>90.2</td>\n      <td>A</td>\n    </tr>\n    <tr>\n      <th>76</th>\n      <td>4266935830</td>\n      <td>2019-08-29</td>\n      <td>1811671147</td>\n      <td>1220.2</td>\n      <td>A</td>\n    </tr>\n    <tr>\n      <th>77</th>\n      <td>4266935830</td>\n      <td>2019-08-29</td>\n      <td>1216533772</td>\n      <td>1220.2</td>\n      <td>B</td>\n    </tr>\n  </tbody>\n</table>\n<p>78 rows × 5 columns</p>\n</div>"
     },
     "execution_count": 24,
     "metadata": {},
     "output_type": "execute_result"
    }
   ],
   "source": [
    "# Generamos las primeras fechas de esos visitantes\n",
    "dates_two_groups = orders_two_groups.groupby(['visitor_id']).agg({'date': min})\n",
    "\n",
    "# Unimos al dataset de fechas el dataset con los grupos para solo quedarnos con los grupos de la primera fecha\n",
    "final_two_groups = pd.merge(dates_two_groups, orders_two_groups, on=['visitor_id', 'date'], how='inner')\n",
    "final_two_groups"
   ]
  },
  {
   "cell_type": "code",
   "execution_count": 25,
   "metadata": {
    "ExecuteTime": {
     "end_time": "2023-07-18T00:50:12.828265500Z",
     "start_time": "2023-07-18T00:50:12.409266400Z"
    }
   },
   "outputs": [
    {
     "data": {
      "text/plain": "    visitor_id  group\n2    232979603      2\n9    477780734      2\n12  1230306981      2\n14  1316129916      2\n22  1801183820      2\n24  2038680547      2\n28  2579882178      2\n32  2686716486      2\n37  2949041841      2\n40  3202540741      2\n44  3766097110      2\n46  3891541246      2\n48  3951559397      2\n50  3963646447      2\n57  4266935830      2",
      "text/html": "<div>\n<style scoped>\n    .dataframe tbody tr th:only-of-type {\n        vertical-align: middle;\n    }\n\n    .dataframe tbody tr th {\n        vertical-align: top;\n    }\n\n    .dataframe thead th {\n        text-align: right;\n    }\n</style>\n<table border=\"1\" class=\"dataframe\">\n  <thead>\n    <tr style=\"text-align: right;\">\n      <th></th>\n      <th>visitor_id</th>\n      <th>group</th>\n    </tr>\n  </thead>\n  <tbody>\n    <tr>\n      <th>2</th>\n      <td>232979603</td>\n      <td>2</td>\n    </tr>\n    <tr>\n      <th>9</th>\n      <td>477780734</td>\n      <td>2</td>\n    </tr>\n    <tr>\n      <th>12</th>\n      <td>1230306981</td>\n      <td>2</td>\n    </tr>\n    <tr>\n      <th>14</th>\n      <td>1316129916</td>\n      <td>2</td>\n    </tr>\n    <tr>\n      <th>22</th>\n      <td>1801183820</td>\n      <td>2</td>\n    </tr>\n    <tr>\n      <th>24</th>\n      <td>2038680547</td>\n      <td>2</td>\n    </tr>\n    <tr>\n      <th>28</th>\n      <td>2579882178</td>\n      <td>2</td>\n    </tr>\n    <tr>\n      <th>32</th>\n      <td>2686716486</td>\n      <td>2</td>\n    </tr>\n    <tr>\n      <th>37</th>\n      <td>2949041841</td>\n      <td>2</td>\n    </tr>\n    <tr>\n      <th>40</th>\n      <td>3202540741</td>\n      <td>2</td>\n    </tr>\n    <tr>\n      <th>44</th>\n      <td>3766097110</td>\n      <td>2</td>\n    </tr>\n    <tr>\n      <th>46</th>\n      <td>3891541246</td>\n      <td>2</td>\n    </tr>\n    <tr>\n      <th>48</th>\n      <td>3951559397</td>\n      <td>2</td>\n    </tr>\n    <tr>\n      <th>50</th>\n      <td>3963646447</td>\n      <td>2</td>\n    </tr>\n    <tr>\n      <th>57</th>\n      <td>4266935830</td>\n      <td>2</td>\n    </tr>\n  </tbody>\n</table>\n</div>"
     },
     "execution_count": 25,
     "metadata": {},
     "output_type": "execute_result"
    }
   ],
   "source": [
    "# Verificamos que ya no haya doble grupo\n",
    "visitors_two_groups_final = final_two_groups.groupby('visitor_id')['group'].nunique().reset_index().query('group > 1')\n",
    "visitors_two_groups_final"
   ]
  },
  {
   "cell_type": "markdown",
   "metadata": {},
   "source": [
    "Podemos ver que aun tenemos 15 visitantes con 2 grupos, este se debe a que estas personas ingresaron el mismo dia a los 2 grupos y no pudimos identificar primer grupo. Debido a esto eliminaremos estos usuarios del dataset"
   ]
  },
  {
   "cell_type": "code",
   "execution_count": 26,
   "metadata": {
    "ExecuteTime": {
     "end_time": "2023-07-18T00:50:12.847265900Z",
     "start_time": "2023-07-18T00:50:12.442269300Z"
    }
   },
   "outputs": [
    {
     "name": "stdout",
     "output_type": "stream",
     "text": [
      "Numero de visitantes con 2 grupos: 0\n",
      "Tamaño del dataset orders original: 1197\n",
      "Tamaño del dataset orders filtrado: 1060\n"
     ]
    }
   ],
   "source": [
    "# Eliminamos los datos que identificamos al principio\n",
    "data_orders_1 = data_orders[~data_orders['visitor_id'].isin(visitors_two_groups)]\n",
    "\n",
    "# Filtramos nuestros datos de visitantes con 2 grupos el mismo dia\n",
    "final_two_groups = final_two_groups[~final_two_groups['visitor_id'].isin(visitors_two_groups_final['visitor_id'])].reset_index(drop=True)\n",
    "\n",
    "# Agregamos los datos con un solo grupo\n",
    "data_orders_filtered = pd.concat([data_orders_1, final_two_groups])\n",
    "\n",
    "# Verificamos que no haya visitantes con 2 grupos\n",
    "print('Numero de visitantes con 2 grupos:', data_orders_filtered.groupby('visitor_id')['group'].nunique().reset_index().query('group > 1').shape[0])\n",
    "print('Tamaño del dataset orders original:', data_orders.shape[0])\n",
    "print('Tamaño del dataset orders filtrado:', data_orders_filtered.shape[0])"
   ]
  },
  {
   "cell_type": "markdown",
   "metadata": {},
   "source": [
    "Una vez realizado este paso, nuestro dataset esta libre de errores y listo para ser analizado"
   ]
  },
  {
   "cell_type": "markdown",
   "metadata": {},
   "source": [
    "### Representar gráficamente el ingreso acumulado por grupo."
   ]
  },
  {
   "cell_type": "code",
   "execution_count": 27,
   "metadata": {
    "ExecuteTime": {
     "end_time": "2023-07-18T00:50:12.848264900Z",
     "start_time": "2023-07-18T00:50:12.474265Z"
    }
   },
   "outputs": [
    {
     "data": {
      "text/plain": "           date group\n0    2019-08-15     B\n7    2019-08-15     A\n45   2019-08-16     A\n47   2019-08-16     B\n55   2019-08-01     A\n...         ...   ...\n1068 2019-08-12     A\n1114 2019-08-13     B\n1116 2019-08-13     A\n1149 2019-08-14     B\n1150 2019-08-14     A\n\n[62 rows x 2 columns]",
      "text/html": "<div>\n<style scoped>\n    .dataframe tbody tr th:only-of-type {\n        vertical-align: middle;\n    }\n\n    .dataframe tbody tr th {\n        vertical-align: top;\n    }\n\n    .dataframe thead th {\n        text-align: right;\n    }\n</style>\n<table border=\"1\" class=\"dataframe\">\n  <thead>\n    <tr style=\"text-align: right;\">\n      <th></th>\n      <th>date</th>\n      <th>group</th>\n    </tr>\n  </thead>\n  <tbody>\n    <tr>\n      <th>0</th>\n      <td>2019-08-15</td>\n      <td>B</td>\n    </tr>\n    <tr>\n      <th>7</th>\n      <td>2019-08-15</td>\n      <td>A</td>\n    </tr>\n    <tr>\n      <th>45</th>\n      <td>2019-08-16</td>\n      <td>A</td>\n    </tr>\n    <tr>\n      <th>47</th>\n      <td>2019-08-16</td>\n      <td>B</td>\n    </tr>\n    <tr>\n      <th>55</th>\n      <td>2019-08-01</td>\n      <td>A</td>\n    </tr>\n    <tr>\n      <th>...</th>\n      <td>...</td>\n      <td>...</td>\n    </tr>\n    <tr>\n      <th>1068</th>\n      <td>2019-08-12</td>\n      <td>A</td>\n    </tr>\n    <tr>\n      <th>1114</th>\n      <td>2019-08-13</td>\n      <td>B</td>\n    </tr>\n    <tr>\n      <th>1116</th>\n      <td>2019-08-13</td>\n      <td>A</td>\n    </tr>\n    <tr>\n      <th>1149</th>\n      <td>2019-08-14</td>\n      <td>B</td>\n    </tr>\n    <tr>\n      <th>1150</th>\n      <td>2019-08-14</td>\n      <td>A</td>\n    </tr>\n  </tbody>\n</table>\n<p>62 rows × 2 columns</p>\n</div>"
     },
     "execution_count": 27,
     "metadata": {},
     "output_type": "execute_result"
    }
   ],
   "source": [
    "# Crear una matriz con valores únicos de parejas fecha-grupo\n",
    "dates_groups = data_orders_filtered[['date','group']].drop_duplicates()\n",
    "dates_groups"
   ]
  },
  {
   "cell_type": "code",
   "execution_count": 28,
   "metadata": {
    "ExecuteTime": {
     "end_time": "2023-07-18T00:50:12.850263200Z",
     "start_time": "2023-07-18T00:50:12.504263700Z"
    }
   },
   "outputs": [
    {
     "data": {
      "text/plain": "          date group  transaction_id  visitor_id  revenue\n55  2019-08-01     A              24          20   2356.8\n66  2019-08-01     B              21          20   1620.0\n175 2019-08-02     A              43          37   3825.1\n173 2019-08-02     B              45          43   4243.8\n291 2019-08-03     A              67          61   5640.3\n..         ...   ...             ...         ...      ...\n533 2019-08-29     B             534         513  77153.6\n757 2019-08-30     A             480         457  55150.1\n690 2019-08-30     B             555         534  80440.4\n958 2019-08-31     A             488         465  55998.4\n930 2019-08-31     B             572         551  82228.1\n\n[62 rows x 5 columns]",
      "text/html": "<div>\n<style scoped>\n    .dataframe tbody tr th:only-of-type {\n        vertical-align: middle;\n    }\n\n    .dataframe tbody tr th {\n        vertical-align: top;\n    }\n\n    .dataframe thead th {\n        text-align: right;\n    }\n</style>\n<table border=\"1\" class=\"dataframe\">\n  <thead>\n    <tr style=\"text-align: right;\">\n      <th></th>\n      <th>date</th>\n      <th>group</th>\n      <th>transaction_id</th>\n      <th>visitor_id</th>\n      <th>revenue</th>\n    </tr>\n  </thead>\n  <tbody>\n    <tr>\n      <th>55</th>\n      <td>2019-08-01</td>\n      <td>A</td>\n      <td>24</td>\n      <td>20</td>\n      <td>2356.8</td>\n    </tr>\n    <tr>\n      <th>66</th>\n      <td>2019-08-01</td>\n      <td>B</td>\n      <td>21</td>\n      <td>20</td>\n      <td>1620.0</td>\n    </tr>\n    <tr>\n      <th>175</th>\n      <td>2019-08-02</td>\n      <td>A</td>\n      <td>43</td>\n      <td>37</td>\n      <td>3825.1</td>\n    </tr>\n    <tr>\n      <th>173</th>\n      <td>2019-08-02</td>\n      <td>B</td>\n      <td>45</td>\n      <td>43</td>\n      <td>4243.8</td>\n    </tr>\n    <tr>\n      <th>291</th>\n      <td>2019-08-03</td>\n      <td>A</td>\n      <td>67</td>\n      <td>61</td>\n      <td>5640.3</td>\n    </tr>\n    <tr>\n      <th>...</th>\n      <td>...</td>\n      <td>...</td>\n      <td>...</td>\n      <td>...</td>\n      <td>...</td>\n    </tr>\n    <tr>\n      <th>533</th>\n      <td>2019-08-29</td>\n      <td>B</td>\n      <td>534</td>\n      <td>513</td>\n      <td>77153.6</td>\n    </tr>\n    <tr>\n      <th>757</th>\n      <td>2019-08-30</td>\n      <td>A</td>\n      <td>480</td>\n      <td>457</td>\n      <td>55150.1</td>\n    </tr>\n    <tr>\n      <th>690</th>\n      <td>2019-08-30</td>\n      <td>B</td>\n      <td>555</td>\n      <td>534</td>\n      <td>80440.4</td>\n    </tr>\n    <tr>\n      <th>958</th>\n      <td>2019-08-31</td>\n      <td>A</td>\n      <td>488</td>\n      <td>465</td>\n      <td>55998.4</td>\n    </tr>\n    <tr>\n      <th>930</th>\n      <td>2019-08-31</td>\n      <td>B</td>\n      <td>572</td>\n      <td>551</td>\n      <td>82228.1</td>\n    </tr>\n  </tbody>\n</table>\n<p>62 rows × 5 columns</p>\n</div>"
     },
     "execution_count": 28,
     "metadata": {},
     "output_type": "execute_result"
    }
   ],
   "source": [
    "# Obtenemos los datos diarios acumulados agregados sobre los pedidos\n",
    "orders_aggregated = dates_groups.apply(lambda x: data_orders_filtered[np.logical_and(data_orders_filtered['date'] <= x['date'], data_orders_filtered['group'] == x['group'])].agg({'date' : 'max', 'group' : 'max', 'transaction_id' : pd.Series.nunique, 'visitor_id' : pd.Series.nunique, 'revenue' : 'sum'}), axis=1).sort_values(by=['date','group'])\n",
    "\n",
    "orders_aggregated"
   ]
  },
  {
   "cell_type": "code",
   "execution_count": 29,
   "metadata": {
    "ExecuteTime": {
     "end_time": "2023-07-18T00:50:13.733262800Z",
     "start_time": "2023-07-18T00:50:12.785266600Z"
    }
   },
   "outputs": [
    {
     "data": {
      "text/plain": "          date group  visits\n55  2019-08-01     A     719\n66  2019-08-01     B     713\n175 2019-08-02     A    1338\n173 2019-08-02     B    1294\n291 2019-08-03     A    1845\n..         ...   ...     ...\n533 2019-08-29     B   17708\n757 2019-08-30     A   18037\n690 2019-08-30     B   18198\n958 2019-08-31     A   18736\n930 2019-08-31     B   18916\n\n[62 rows x 3 columns]",
      "text/html": "<div>\n<style scoped>\n    .dataframe tbody tr th:only-of-type {\n        vertical-align: middle;\n    }\n\n    .dataframe tbody tr th {\n        vertical-align: top;\n    }\n\n    .dataframe thead th {\n        text-align: right;\n    }\n</style>\n<table border=\"1\" class=\"dataframe\">\n  <thead>\n    <tr style=\"text-align: right;\">\n      <th></th>\n      <th>date</th>\n      <th>group</th>\n      <th>visits</th>\n    </tr>\n  </thead>\n  <tbody>\n    <tr>\n      <th>55</th>\n      <td>2019-08-01</td>\n      <td>A</td>\n      <td>719</td>\n    </tr>\n    <tr>\n      <th>66</th>\n      <td>2019-08-01</td>\n      <td>B</td>\n      <td>713</td>\n    </tr>\n    <tr>\n      <th>175</th>\n      <td>2019-08-02</td>\n      <td>A</td>\n      <td>1338</td>\n    </tr>\n    <tr>\n      <th>173</th>\n      <td>2019-08-02</td>\n      <td>B</td>\n      <td>1294</td>\n    </tr>\n    <tr>\n      <th>291</th>\n      <td>2019-08-03</td>\n      <td>A</td>\n      <td>1845</td>\n    </tr>\n    <tr>\n      <th>...</th>\n      <td>...</td>\n      <td>...</td>\n      <td>...</td>\n    </tr>\n    <tr>\n      <th>533</th>\n      <td>2019-08-29</td>\n      <td>B</td>\n      <td>17708</td>\n    </tr>\n    <tr>\n      <th>757</th>\n      <td>2019-08-30</td>\n      <td>A</td>\n      <td>18037</td>\n    </tr>\n    <tr>\n      <th>690</th>\n      <td>2019-08-30</td>\n      <td>B</td>\n      <td>18198</td>\n    </tr>\n    <tr>\n      <th>958</th>\n      <td>2019-08-31</td>\n      <td>A</td>\n      <td>18736</td>\n    </tr>\n    <tr>\n      <th>930</th>\n      <td>2019-08-31</td>\n      <td>B</td>\n      <td>18916</td>\n    </tr>\n  </tbody>\n</table>\n<p>62 rows × 3 columns</p>\n</div>"
     },
     "execution_count": 29,
     "metadata": {},
     "output_type": "execute_result"
    }
   ],
   "source": [
    "# Obtenemos los datos diarios acumulados agregados sobre las visitas\n",
    "visitors_aggregated = dates_groups.apply(lambda x: data_visits[np.logical_and(data_visits['date'] <= x['date'], data_visits['group'] == x['group'])].agg({'date' : 'max', 'group' : 'max', 'visits' : 'sum'}), axis=1).sort_values(by=['date','group'])\n",
    "visitors_aggregated"
   ]
  },
  {
   "cell_type": "code",
   "execution_count": 30,
   "metadata": {
    "ExecuteTime": {
     "end_time": "2023-07-18T00:50:13.733262800Z",
     "start_time": "2023-07-18T00:50:13.017266100Z"
    }
   },
   "outputs": [
    {
     "data": {
      "text/plain": "         date group  orders  buyers  revenue  visitors\n0  2019-08-01     A      24      20   2356.8       719\n1  2019-08-01     B      21      20   1620.0       713\n2  2019-08-02     A      43      37   3825.1      1338\n3  2019-08-02     B      45      43   4243.8      1294\n4  2019-08-03     A      67      61   5640.3      1845\n..        ...   ...     ...     ...      ...       ...\n57 2019-08-29     B     534     513  77153.6     17708\n58 2019-08-30     A     480     457  55150.1     18037\n59 2019-08-30     B     555     534  80440.4     18198\n60 2019-08-31     A     488     465  55998.4     18736\n61 2019-08-31     B     572     551  82228.1     18916\n\n[62 rows x 6 columns]",
      "text/html": "<div>\n<style scoped>\n    .dataframe tbody tr th:only-of-type {\n        vertical-align: middle;\n    }\n\n    .dataframe tbody tr th {\n        vertical-align: top;\n    }\n\n    .dataframe thead th {\n        text-align: right;\n    }\n</style>\n<table border=\"1\" class=\"dataframe\">\n  <thead>\n    <tr style=\"text-align: right;\">\n      <th></th>\n      <th>date</th>\n      <th>group</th>\n      <th>orders</th>\n      <th>buyers</th>\n      <th>revenue</th>\n      <th>visitors</th>\n    </tr>\n  </thead>\n  <tbody>\n    <tr>\n      <th>0</th>\n      <td>2019-08-01</td>\n      <td>A</td>\n      <td>24</td>\n      <td>20</td>\n      <td>2356.8</td>\n      <td>719</td>\n    </tr>\n    <tr>\n      <th>1</th>\n      <td>2019-08-01</td>\n      <td>B</td>\n      <td>21</td>\n      <td>20</td>\n      <td>1620.0</td>\n      <td>713</td>\n    </tr>\n    <tr>\n      <th>2</th>\n      <td>2019-08-02</td>\n      <td>A</td>\n      <td>43</td>\n      <td>37</td>\n      <td>3825.1</td>\n      <td>1338</td>\n    </tr>\n    <tr>\n      <th>3</th>\n      <td>2019-08-02</td>\n      <td>B</td>\n      <td>45</td>\n      <td>43</td>\n      <td>4243.8</td>\n      <td>1294</td>\n    </tr>\n    <tr>\n      <th>4</th>\n      <td>2019-08-03</td>\n      <td>A</td>\n      <td>67</td>\n      <td>61</td>\n      <td>5640.3</td>\n      <td>1845</td>\n    </tr>\n    <tr>\n      <th>...</th>\n      <td>...</td>\n      <td>...</td>\n      <td>...</td>\n      <td>...</td>\n      <td>...</td>\n      <td>...</td>\n    </tr>\n    <tr>\n      <th>57</th>\n      <td>2019-08-29</td>\n      <td>B</td>\n      <td>534</td>\n      <td>513</td>\n      <td>77153.6</td>\n      <td>17708</td>\n    </tr>\n    <tr>\n      <th>58</th>\n      <td>2019-08-30</td>\n      <td>A</td>\n      <td>480</td>\n      <td>457</td>\n      <td>55150.1</td>\n      <td>18037</td>\n    </tr>\n    <tr>\n      <th>59</th>\n      <td>2019-08-30</td>\n      <td>B</td>\n      <td>555</td>\n      <td>534</td>\n      <td>80440.4</td>\n      <td>18198</td>\n    </tr>\n    <tr>\n      <th>60</th>\n      <td>2019-08-31</td>\n      <td>A</td>\n      <td>488</td>\n      <td>465</td>\n      <td>55998.4</td>\n      <td>18736</td>\n    </tr>\n    <tr>\n      <th>61</th>\n      <td>2019-08-31</td>\n      <td>B</td>\n      <td>572</td>\n      <td>551</td>\n      <td>82228.1</td>\n      <td>18916</td>\n    </tr>\n  </tbody>\n</table>\n<p>62 rows × 6 columns</p>\n</div>"
     },
     "execution_count": 30,
     "metadata": {},
     "output_type": "execute_result"
    }
   ],
   "source": [
    "#  fusiona las dos tablas en una y da a sus columnas nombres descriptivos\n",
    "cumulative_data = orders_aggregated.merge(visitors_aggregated, left_on=['date', 'group'], right_on=['date', 'group'])\n",
    "cumulative_data.columns = ['date', 'group', 'orders', 'buyers', 'revenue', 'visitors']\n",
    "\n",
    "cumulative_data"
   ]
  },
  {
   "cell_type": "code",
   "execution_count": 31,
   "metadata": {
    "ExecuteTime": {
     "end_time": "2023-07-18T00:50:15.635264900Z",
     "start_time": "2023-07-18T00:50:13.052267400Z"
    }
   },
   "outputs": [
    {
     "data": {
      "text/plain": "<matplotlib.legend.Legend at 0x1e1bb775cd0>"
     },
     "execution_count": 31,
     "metadata": {},
     "output_type": "execute_result"
    },
    {
     "data": {
      "text/plain": "<Figure size 1080x720 with 1 Axes>",
      "image/png": "[encoded data removed]"
     },
     "metadata": {},
     "output_type": "display_data"
    }
   ],
   "source": [
    "# DataFrame con pedidos acumulados e ingresos acumulados por día, grupo A\n",
    "cumulative_revenue_a = cumulative_data[cumulative_data['group']=='A'][['date','revenue', 'orders']]\n",
    "\n",
    "# DataFrame con pedidos acumulados e ingresos acumulados por día, grupo B\n",
    "cumulative_revenue_b = cumulative_data[cumulative_data['group']=='B'][['date','revenue', 'orders']]\n",
    "\n",
    "# Ajustamos el tamaño de la figura\n",
    "plt.figure(figsize=(15,10))\n",
    "\n",
    "# Trazar el gráfico de ingresos del grupo A\n",
    "plt.plot(cumulative_revenue_a['date'], cumulative_revenue_a['revenue'], label='A')\n",
    "\n",
    "# Trazar el gráfico de ingresos del grupo B\n",
    "plt.plot(cumulative_revenue_b['date'], cumulative_revenue_b['revenue'], label='B')\n",
    "\n",
    "plt.legend()"
   ]
  },
  {
   "cell_type": "markdown",
   "metadata": {},
   "source": [
    "#### Conclusiones ingreso acumulado por grupo\n",
    "\n",
    "Los ingresos aumentan constantemente durante toda la prueba. Sin embargo, podemos notar que el grupo B tiene un aumento abrupto en cierto punto para luego asentarse en ese aumento, esto hace que se diferencie completamente del grupo A y tengo mayor ingreso.\n",
    "\n",
    "Esta situación puede indicar la presencia de pedidos muy caros en la muestra o un aumento abrupto de pedidos, se debe analizar estos datos atípicos"
   ]
  },
  {
   "cell_type": "markdown",
   "metadata": {},
   "source": [
    "### Representar gráficamente el tamaño de pedido promedio acumulado por grupo."
   ]
  },
  {
   "cell_type": "code",
   "execution_count": 32,
   "metadata": {
    "ExecuteTime": {
     "end_time": "2023-07-18T00:50:16.057263100Z",
     "start_time": "2023-07-18T00:50:15.311270500Z"
    }
   },
   "outputs": [
    {
     "data": {
      "text/plain": "<matplotlib.legend.Legend at 0x1e1bc2e3be0>"
     },
     "execution_count": 32,
     "metadata": {},
     "output_type": "execute_result"
    },
    {
     "data": {
      "text/plain": "<Figure size 1080x720 with 1 Axes>",
      "image/png": "[encoded data removed]"
     },
     "metadata": {},
     "output_type": "display_data"
    }
   ],
   "source": [
    "# Ajustamos el tamaño de la figura\n",
    "plt.figure(figsize=(15,10))\n",
    "\n",
    "# Dividimos los ingresos acumulados entre el número acumulado de pedidos\n",
    "plt.plot(cumulative_revenue_a['date'], cumulative_revenue_a['revenue']/cumulative_revenue_a['orders'], label='A')\n",
    "plt.plot(cumulative_revenue_b['date'], cumulative_revenue_b['revenue']/cumulative_revenue_b['orders'], label='B')\n",
    "plt.legend()"
   ]
  },
  {
   "cell_type": "markdown",
   "metadata": {},
   "source": [
    "#### Conclusiones tamaño de pedido promedio acumulado por grupo\n",
    "\n",
    "Podemos observar que en el tamaño de pedido promedio hay picos de subida, sin embago podemos notar que para el grupo b hubo un aumento abrupto a los 160 pedidos, este en vez de mantenerse procedio rapidamente a descender, mientras que el grupo A sigue aumentando constantemente. Esto nos puede indicar con mayor claridad que hay datos atipicos que debemos tratar para conocer el verdadero tamaño promedio de los pedidos."
   ]
  },
  {
   "cell_type": "markdown",
   "metadata": {},
   "source": [
    "### Representa gráficamente la diferencia relativa en el tamaño de pedido promedio acumulado para el grupo B en comparación con el grupo A."
   ]
  },
  {
   "cell_type": "code",
   "execution_count": 33,
   "metadata": {
    "ExecuteTime": {
     "end_time": "2023-07-18T00:50:16.566264500Z",
     "start_time": "2023-07-18T00:50:15.991265600Z"
    }
   },
   "outputs": [
    {
     "data": {
      "text/plain": "<matplotlib.lines.Line2D at 0x1e1bc2cde50>"
     },
     "execution_count": 33,
     "metadata": {},
     "output_type": "execute_result"
    },
    {
     "data": {
      "text/plain": "<Figure size 1080x720 with 1 Axes>",
      "image/png": "[encoded data removed]"
     },
     "metadata": {},
     "output_type": "display_data"
    }
   ],
   "source": [
    "# Reunir los datos en un DataFrame\n",
    "merged_cumulative_revenue = cumulative_revenue_a.merge(cumulative_revenue_b, left_on='date', right_on='date', how='left', suffixes=['A', 'B'])\n",
    "\n",
    "# Ajustamos el tamaño de la figura\n",
    "plt.figure(figsize=(15,10))\n",
    "\n",
    "# Trazar un gráfico de diferencia relativa para los tamaños de pedido promedio acumulado\n",
    "plt.plot(merged_cumulative_revenue['date'], (merged_cumulative_revenue['revenueB']/merged_cumulative_revenue['ordersB'])/(merged_cumulative_revenue['revenueA']/merged_cumulative_revenue['ordersA'])-1)\n",
    "\n",
    "# Agregar el eje X\n",
    "plt.axhline(y=0, color='black', linestyle='--')"
   ]
  },
  {
   "cell_type": "markdown",
   "metadata": {},
   "source": [
    "#### Conclusiones diferencia relativa en el tamaño de pedido promedio acumulado del grupo B vs grupo A\n",
    "\n",
    "Podemos observar que en varios puntos la diferencia entre segmentos es bastante significativa, casi un 0.5! Esto nos da más certeza en asegurar que tenemos datos atípicos y pedidos grandes en nuestras muestras."
   ]
  },
  {
   "cell_type": "markdown",
   "metadata": {},
   "source": [
    "### Tasa de conversión de cada grupo como la relación entre los pedidos y el número de visitas de cada día. Representación gráfica de las tasas de conversión diarias de los dos grupos y describe la diferencia."
   ]
  },
  {
   "cell_type": "code",
   "execution_count": 34,
   "metadata": {
    "ExecuteTime": {
     "end_time": "2023-07-18T00:50:17.164265200Z",
     "start_time": "2023-07-18T00:50:16.565260500Z"
    }
   },
   "outputs": [
    {
     "data": {
      "text/plain": "<matplotlib.legend.Legend at 0x1e1bca829d0>"
     },
     "execution_count": 34,
     "metadata": {},
     "output_type": "execute_result"
    },
    {
     "data": {
      "text/plain": "<Figure size 1080x720 with 1 Axes>",
      "image/png": "[encoded data removed]"
     },
     "metadata": {},
     "output_type": "display_data"
    }
   ],
   "source": [
    "# Calculamos la conversión acumulada\n",
    "cumulative_data['conversion'] = cumulative_data['orders']/cumulative_data['visitors']\n",
    "\n",
    "# Seleccionar datos en el grupo A\n",
    "cumulative_data_a = cumulative_data[cumulative_data['group']=='A']\n",
    "\n",
    "# Seleccionar datos en el grupo B\n",
    "cumulative_data_b = cumulative_data[cumulative_data['group']=='B']\n",
    "\n",
    "# Ajustamos el tamaño de la figura\n",
    "plt.figure(figsize=(15,10))\n",
    "\n",
    "# Trazar los gráficos\n",
    "plt.plot(cumulative_data_a['date'], cumulative_data_a['conversion'], label='A')\n",
    "plt.plot(cumulative_data_b['date'], cumulative_data_b['conversion'], label='B')\n",
    "plt.legend()"
   ]
  },
  {
   "cell_type": "markdown",
   "metadata": {},
   "source": [
    "#### Conclusiones tasa de conversión por grupo\n",
    "\n",
    "Como podemos observar en la gráfica, los grupos iban relativamente parejos pero en los primeros dias el grupo A presento caidas importantes en la tasa de conversión y su caida a sido continua a lo largo de toda la prueba. Por otro lado, el grupo B tuvo subidas y bajadas continuas pero a mitades de la prueba su tasa de conversion empezo a bajar hasta establecerse cerca de los 0.030.\n",
    "\n",
    "Esta situación parece indicar que el grupo B esta teniendo mejor tasa de conversión que el grupo A, aunque ambos grupos estan teniendo dificultades para establecerse."
   ]
  },
  {
   "cell_type": "markdown",
   "metadata": {},
   "source": [
    "### Traza un gráfico de dispersión del número de pedidos por usuario."
   ]
  },
  {
   "cell_type": "code",
   "execution_count": 35,
   "metadata": {
    "ExecuteTime": {
     "end_time": "2023-07-18T00:50:17.512264700Z",
     "start_time": "2023-07-18T00:50:17.168265600Z"
    }
   },
   "outputs": [
    {
     "data": {
      "text/plain": "<matplotlib.collections.PathCollection at 0x1e1bcac0fa0>"
     },
     "execution_count": 35,
     "metadata": {},
     "output_type": "execute_result"
    },
    {
     "data": {
      "text/plain": "<Figure size 720x720 with 1 Axes>",
      "image/png": "[encoded data removed]"
     },
     "metadata": {},
     "output_type": "display_data"
    }
   ],
   "source": [
    "# Generamos las ordenes por usuario\n",
    "orders_by_users = (\n",
    "    data_orders_filtered.drop(['group', 'revenue', 'date'], axis=1)\n",
    "    .groupby('visitor_id', as_index=False)\n",
    "    .agg({'transaction_id': pd.Series.nunique})\n",
    ")\n",
    "\n",
    "orders_by_users.columns = ['visitor_id', 'orders']\n",
    "\n",
    "# Ajustamos el tamaño de la figura\n",
    "plt.figure(figsize=(10,10))\n",
    "\n",
    "# Trazar el gráfico de dispersión\n",
    "x_values = pd.Series(range(0, len(orders_by_users)))\n",
    "plt.scatter(x_values, orders_by_users['orders'])"
   ]
  },
  {
   "cell_type": "markdown",
   "metadata": {},
   "source": [
    "#### Conclusiones dispersión de número de pedidos por usuario\n",
    "\n",
    "Podemos observar en la gráfica que la mayoria de usuarios piden solo un pedido mientras que muy pocos llegan a pedir 2 y aun menos usuarios llegan a pedir 3. Claramente, hay datos atípicos que debemos tratar"
   ]
  },
  {
   "cell_type": "markdown",
   "metadata": {},
   "source": [
    "### Percentiles 95 y 99 para el número de pedidos por usuario. Definir el punto en el cual un punto de datos se convierte en una anomalía."
   ]
  },
  {
   "cell_type": "code",
   "execution_count": 36,
   "metadata": {
    "ExecuteTime": {
     "end_time": "2023-07-18T00:50:17.683311200Z",
     "start_time": "2023-07-18T00:50:17.515263900Z"
    }
   },
   "outputs": [
    {
     "name": "stdout",
     "output_type": "stream",
     "text": [
      "Percentil 90: 1\n",
      "Percentil 95: 1\n",
      "Percentil 99: 2\n"
     ]
    }
   ],
   "source": [
    "print('Percentil 90:', int(np.percentile(orders_by_users['orders'], [90])))\n",
    "print('Percentil 95:', int(np.percentile(orders_by_users['orders'], [95])))\n",
    "print('Percentil 99:', int(np.percentile(orders_by_users['orders'], [99])))\n"
   ]
  },
  {
   "cell_type": "markdown",
   "metadata": {},
   "source": [
    "#### Conclusiones percentiles 95 y 99 para el número de pedidos por usuario.\n",
    "\n",
    "Podemos observar que no más del 1% de los usuarios realizan más de 2 pedidos. Teniendo esto en cuenta, estableceremos que los usuarios con más de 1 pedido seran considerados anómalias y se filtraran"
   ]
  },
  {
   "cell_type": "markdown",
   "metadata": {},
   "source": [
    "### Traza un gráfico de dispersión de los precios de los pedidos."
   ]
  },
  {
   "cell_type": "code",
   "execution_count": 37,
   "metadata": {
    "ExecuteTime": {
     "end_time": "2023-07-18T00:50:17.824260200Z",
     "start_time": "2023-07-18T00:50:17.532281100Z"
    }
   },
   "outputs": [
    {
     "data": {
      "text/plain": "<matplotlib.collections.PathCollection at 0x1e1bcaf3ee0>"
     },
     "execution_count": 37,
     "metadata": {},
     "output_type": "execute_result"
    },
    {
     "data": {
      "text/plain": "<Figure size 720x720 with 1 Axes>",
      "image/png": "[encoded data removed]"
     },
     "metadata": {},
     "output_type": "display_data"
    }
   ],
   "source": [
    "# Ajustamos el tamaño de la figura\n",
    "plt.figure(figsize=(10,10))\n",
    "\n",
    "# Trazamos el gráfico\n",
    "x_values = pd.Series(range(0, len(data_orders_filtered['revenue'])))\n",
    "plt.scatter(x_values, data_orders_filtered['revenue'])"
   ]
  },
  {
   "cell_type": "markdown",
   "metadata": {},
   "source": [
    "#### Conclusiones dispersión de los precios de los pedidos\n",
    "\n",
    "Podemos observar en la gráfica que casi todos los pedidos son menores a 2500, mientas que identificamos 2 pedidos grandes en la muestra (1 de ellos de 20,000), claramente son datos anormales."
   ]
  },
  {
   "cell_type": "markdown",
   "metadata": {},
   "source": [
    "### Percentiles 95 y 99 de los precios de los pedidos. Definir el punto en el cual un punto de datos se convierte en una anomalía."
   ]
  },
  {
   "cell_type": "code",
   "execution_count": 38,
   "metadata": {
    "ExecuteTime": {
     "end_time": "2023-07-18T00:50:17.854260Z",
     "start_time": "2023-07-18T00:50:17.767264400Z"
    }
   },
   "outputs": [
    {
     "name": "stdout",
     "output_type": "stream",
     "text": [
      "Percentil 90: 280\n",
      "Percentil 95: 425\n",
      "Percentil 99: 830\n"
     ]
    }
   ],
   "source": [
    "print('Percentil 90:', int(np.percentile(data_orders_filtered['revenue'], [90])))\n",
    "print('Percentil 95:', int(np.percentile(data_orders_filtered['revenue'], [95])))\n",
    "print('Percentil 99:', int(np.percentile(data_orders_filtered['revenue'], [99])))"
   ]
  },
  {
   "cell_type": "markdown",
   "metadata": {},
   "source": [
    "#### Conclusiones percentiles 95 y 99 de los precios de los\n",
    "\n",
    "Podemos observar que no más del 5% de los pedidos cuestan más de 425 y no más del 1% cuestan más de 830. Con la información anterior, estableceremos que todos los pedidos por encima de los 830 sera considerado anomalo.\n"
   ]
  },
  {
   "cell_type": "markdown",
   "metadata": {},
   "source": [
    "### Encontrar la significancia estadística de la diferencia en la conversión entre los grupos utilizando los datos en bruto."
   ]
  },
  {
   "cell_type": "code",
   "execution_count": 39,
   "metadata": {
    "ExecuteTime": {
     "end_time": "2023-07-18T00:50:18.105317100Z",
     "start_time": "2023-07-18T00:50:17.787264400Z"
    }
   },
   "outputs": [
    {
     "name": "stdout",
     "output_type": "stream",
     "text": [
      "0.010\n",
      "0.161\n"
     ]
    }
   ],
   "source": [
    "# Pedidos por usuario del grupo A\n",
    "orders_by_users_a = data_orders_filtered[data_orders_filtered['group']=='A'].groupby('visitor_id', as_index=False).agg({'transaction_id' : pd.Series.nunique})\n",
    "orders_by_users_a.columns = ['userId', 'orders']\n",
    "\n",
    "# Pedidos por usuario del grupo B\n",
    "orders_by_users_b = data_orders_filtered[data_orders_filtered['group']=='B'].groupby('visitor_id', as_index=False).agg({'transaction_id' : pd.Series.nunique})\n",
    "orders_by_users_b.columns = ['userId', 'orders']\n",
    "\n",
    "# Creacion de la muestra A\n",
    "sample_a = pd.concat([orders_by_users_a['orders'],pd.Series(0, index=np.arange(data_visits[data_visits['group']=='A']['visits'].sum() - len(orders_by_users_a['orders'])), name='orders')],axis=0)\n",
    "\n",
    "# Creacion de la muestra B\n",
    "sample_b = pd.concat([orders_by_users_b['orders'],pd.Series(0, index=np.arange(data_visits[data_visits['group']=='B']['visits'].sum() - len(orders_by_users_b['orders'])), name='orders')],axis=0)\n",
    "\n",
    "# Diferencia de la conversión entre los grupos A y B\n",
    "print(\"{0:.3f}\".format(stats.mannwhitneyu(sample_a, sample_b)[1]))\n",
    "\n",
    "print(\"{0:.3f}\".format(sample_b.mean()/sample_a.mean()-1))"
   ]
  },
  {
   "cell_type": "markdown",
   "metadata": {},
   "source": [
    "#### Conclusiones significancia estadística de la diferencia en la conversión entre los grupos con datos en bruto\n",
    "\n",
    "Podemos observar por el primer dato, que el valor de p nos dio 0.010, esto es mayor a nuestro nivel de significancia general que es de 0.05. Esto nos indica que no hay diferencia significativa en la conversión de los grupos. Sin embargo, el grupo B tiene una ganancia relativa de 16.1%.\n",
    "\n",
    "Comparando estos resultados con los de la grafica podemos observar que aunque se notaba una diferencia bastante clara, estadisticamente hablando no es significativa."
   ]
  },
  {
   "cell_type": "markdown",
   "metadata": {},
   "source": [
    "### Encontrar la significancia estadística de la diferencia en el tamaño promedio de pedido entre los grupos utilizando los datos en bruto."
   ]
  },
  {
   "cell_type": "code",
   "execution_count": 40,
   "metadata": {
    "ExecuteTime": {
     "end_time": "2023-07-18T00:50:18.121365800Z",
     "start_time": "2023-07-18T00:50:17.924263800Z"
    }
   },
   "outputs": [
    {
     "name": "stdout",
     "output_type": "stream",
     "text": [
      "0.760\n",
      "0.253\n"
     ]
    }
   ],
   "source": [
    "# Diferencia del tamaño promedio de pedido entre los grupos A y B\n",
    "print('{0:.3f}'.format(stats.mannwhitneyu(data_orders_filtered[data_orders_filtered['group']=='A']['revenue'], data_orders_filtered[data_orders_filtered['group']=='B']['revenue'])[1]))\n",
    "\n",
    "print('{0:.3f}'.format(data_orders_filtered[data_orders_filtered['group']=='B']['revenue'].mean()/data_orders_filtered[data_orders_filtered['group']=='A']['revenue'].mean()-1))"
   ]
  },
  {
   "cell_type": "markdown",
   "metadata": {},
   "source": [
    "#### Conclusiones significancia estadística de la diferencia en el tamaño promedio de pedido entre los grupos con datos en bruto\n",
    "\n",
    "Podemos observar que el valor de p (0.760) es bastante superior a nuestro nivel de significancia general que es de 0.05. Esto nos indica que el tamaño promedio de pedidos no difiere significativamente entre los grupos, sin embargo el pedido de B es mucho mayor que el del grupo A por 25.3%"
   ]
  },
  {
   "cell_type": "markdown",
   "metadata": {},
   "source": [
    "### Encontrar la significancia estadística de la diferencia en la conversión entre los grupos utilizando los datos filtrados."
   ]
  },
  {
   "cell_type": "code",
   "execution_count": 41,
   "metadata": {
    "ExecuteTime": {
     "end_time": "2023-07-18T00:50:18.123279700Z",
     "start_time": "2023-07-18T00:50:17.968267100Z"
    }
   },
   "outputs": [
    {
     "name": "stdout",
     "output_type": "stream",
     "text": [
      "Usuarios anómalos: 49\n"
     ]
    }
   ],
   "source": [
    "# Vamos a indentificar los usuarios anómalos\n",
    "users_with_many_orders = pd.concat([orders_by_users_a[orders_by_users_a['orders'] > 1]['userId'], orders_by_users_b[orders_by_users_b['orders'] > 1]['userId']], axis = 0)\n",
    "users_with_expensive_orders = data_orders_filtered[data_orders_filtered['revenue'] > 830]['visitor_id']\n",
    "users_with_expensive_orders.rename('userId', inplace=True)\n",
    "abnormal_users = pd.concat([users_with_many_orders, users_with_expensive_orders], axis = 0).drop_duplicates().sort_values()\n",
    "print('Usuarios anómalos:', abnormal_users.shape[0])"
   ]
  },
  {
   "cell_type": "code",
   "execution_count": 42,
   "metadata": {
    "ExecuteTime": {
     "end_time": "2023-07-18T00:50:18.123279700Z",
     "start_time": "2023-07-18T00:50:17.989264400Z"
    }
   },
   "outputs": [
    {
     "name": "stdout",
     "output_type": "stream",
     "text": [
      "0.007\n",
      "0.186\n"
     ]
    }
   ],
   "source": [
    "# Muestras de los grupos filtradas del número de pedidos por usuario\n",
    "sample_a_filtered = pd.concat([orders_by_users_a[np.logical_not(orders_by_users_a['userId'].isin(abnormal_users))]['orders'],pd.Series(0, index=np.arange(data_visits[data_visits['group']=='A']['visits'].sum() - len(orders_by_users_a['orders'])),name='orders')],axis=0)\n",
    "\n",
    "sample_b_filtered = pd.concat([orders_by_users_b[np.logical_not(orders_by_users_b['userId'].isin(abnormal_users))]['orders'],pd.Series(0, index=np.arange(data_visits[data_visits['group']=='B']['visits'].sum() - len(orders_by_users_b['orders'])),name='orders')],axis=0)\n",
    "\n",
    "print(\"{0:.3f}\".format(stats.mannwhitneyu(sample_a_filtered, sample_b_filtered)[1]))\n",
    "print(\"{0:.3f}\".format(sample_b_filtered.mean()/sample_a_filtered.mean()-1))"
   ]
  },
  {
   "cell_type": "markdown",
   "metadata": {},
   "source": [
    "#### Conclusiones significancia estadística de la diferencia en la conversión entre los grupos utilizando los datos filtrados\n",
    "\n",
    "Una vez filtrados los datos, pudimos observar ya un valor de p (0.007) menor a nuestro nivel de significancia general que es de 0.05. Esto indica que hay una diferencia significativa en nuestras muestras y que el grupo B tiene una ganancia relativa al 18.6%.\n",
    "\n",
    "Los datos anomalos estaban afectando los resultados de nuestra prueba y fue un gran acierto quitarlos, ya que antes de ello no se encontraba una diferencia significativa"
   ]
  },
  {
   "cell_type": "markdown",
   "metadata": {},
   "source": [
    "### Encontrar la significancia estadística de la diferencia en el tamaño promedio de pedido entre los grupos utilizando los datos filtrados."
   ]
  },
  {
   "cell_type": "code",
   "execution_count": 43,
   "metadata": {
    "ExecuteTime": {
     "end_time": "2023-07-18T00:50:18.124281800Z",
     "start_time": "2023-07-18T00:50:18.033263200Z"
    }
   },
   "outputs": [
    {
     "name": "stdout",
     "output_type": "stream",
     "text": [
      "0.901\n",
      "0.003\n"
     ]
    }
   ],
   "source": [
    "print('{0:.3f}'.format(stats.mannwhitneyu(\n",
    "    data_orders_filtered[np.logical_and(\n",
    "        data_orders_filtered['group']=='A',\n",
    "        np.logical_not(data_orders_filtered['visitor_id'].isin(abnormal_users)))]['revenue'],\n",
    "    data_orders_filtered[np.logical_and(\n",
    "        data_orders_filtered['group']=='B',\n",
    "        np.logical_not(data_orders_filtered['visitor_id'].isin(abnormal_users)))]['revenue'])[1]))\n",
    "\n",
    "print('{0:.3f}'.format(\n",
    "    data_orders_filtered[np.logical_and(data_orders_filtered['group']=='B',np.logical_not(data_orders_filtered['visitor_id'].isin(abnormal_users)))]['revenue'].mean()/\n",
    "    data_orders_filtered[np.logical_and(\n",
    "        data_orders_filtered['group']=='A',\n",
    "        np.logical_not(data_orders_filtered['visitor_id'].isin(abnormal_users)))]['revenue'].mean() - 1))"
   ]
  },
  {
   "cell_type": "markdown",
   "metadata": {},
   "source": [
    "#### Conclusiones significancia estadística de la diferencia en el tamaño promedio de pedido entre los grupos utilizando los datos filtrados\n",
    "\n",
    "Los resultados reflejan que el valor de p aumento aun más, demostrando que no hay una diferencia significativa entre las muestras y esto se refleja aun más en la diferencia relativa en los segmentos pasando de un 25.3% a un 0.3%.\n",
    "\n",
    "Claramente tambien en este caso las anomalias estaban afectando los resultados y dando a entender diferencias relativas más grandes de lo real"
   ]
  },
  {
   "cell_type": "markdown",
   "metadata": {},
   "source": [
    "### Toma una decisión basada en los resultados de la prueba.\n",
    "\n",
    "- Se encontro una diferencia significativa entre las conversiones de los grupos, siendo esta una diferencia relativa del 18.6%. Tambien tomando en cuenta la gráfica, podemos ver que ambos grupos tienen problemas para matenerse estables en la conversión, sin embargo se ve claramente que el grupo B tiene mejor conversión que el grupo A que a lo largo de toda la prueba ha estado cayendo.\n",
    "- No se encontro una diferencia significativa entre el tamaño promedio de pedidos de los grupos y el grupo B es diminutamente mejor que el grupo A (0.3%). La gráfica parecia demostrar que el grupo B tiene mayor número de compra pero eran datos anomalos alterando los resultados.\n",
    "\n",
    "Tomando en cuenta lo anterior expuesto, nuestra decisión seria `parar la prueba`, ya que el grupo B en conversión es el claro lider y el grupo A no indica señales de mejorar. Respecto al tamaño del pedido, ambos grupos estan estables y no hay ningun indice que esto vaya a cambiar."
   ]
  }
 ],
 "metadata": {
  "kernelspec": {
   "display_name": "Python 3 (ipykernel)",
   "language": "python",
   "name": "python3"
  },
  "language_info": {
   "codemirror_mode": {
    "name": "ipython",
    "version": 3
   },
   "file_extension": ".py",
   "mimetype": "text/x-python",
   "name": "python",
   "nbconvert_exporter": "python",
   "pygments_lexer": "ipython3",
   "version": "3.9.5"
  },
  "toc": {
   "base_numbering": 1,
   "nav_menu": {},
   "number_sections": true,
   "sideBar": true,
   "skip_h1_title": true,
   "title_cell": "Table of Contents",
   "title_sidebar": "Contents",
   "toc_cell": false,
   "toc_position": {},
   "toc_section_display": true,
   "toc_window_display": false
  }
 },
 "nbformat": 4,
 "nbformat_minor": 1
}
